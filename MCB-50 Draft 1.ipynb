{
 "cells": [
  {
   "cell_type": "markdown",
   "metadata": {},
   "source": [
    "# MCB 50: Immunology & Disease"
   ]
  },
  {
   "cell_type": "markdown",
   "metadata": {},
   "source": [
    "**Estimated Time**: 30-40 minutes <br>\n",
    "**Databook created by**: Rucha Kelkar, Harry Li, Elias Saravia"
   ]
  },
  {
   "cell_type": "markdown",
   "metadata": {},
   "source": [
    "Today we will be examining a dataset (i.e. a table) on....."
   ]
  },
  {
   "cell_type": "markdown",
   "metadata": {},
   "source": [
    "### Table of Contents\n",
    "1. [Intro to Jupyter](#0) <br>\n",
    "1. [Intro to Python](#1) <br>\n",
    "1. [Intro to MRSA](#2) <br>\n",
    "1. [Intro to dataset](#3) <br>\n",
    "1. [Question 1](#4) <br>\n",
    "1. [Question 2](#5) <br>"
   ]
  },
  {
   "cell_type": "markdown",
   "metadata": {},
   "source": [
    "# 1. Intro to Jupyter <a id='0'></a>\n",
    "\n",
    "This webpage is a Jupyter Notebook. Jupyter Notebooks run on the Python coding language and provides an interactive interface for students. We will use this notebook to analyze the Uppsala Conflict Data Program's (UCDP) Conflict Termination Dataset v.2-2015 (Kreutz 2010). Jupyter Notebooks are composed of both regular text and code cells. Code cells have a gray background. In order to run a code cell, click the cell and press Shift + Enter while the cell is selected or hit the ▶| Run button in the toolbar at the top. An example of a code cell is below. You can also save your work using the button on the top left hand corner.\n",
    "\n",
    "This code cell imports packages and methods that will be utilized throughout for analysis (e.g. creating graphs, widgets, etc.). Try running it. If everything works properly, the word \"Success\" should be printed under the cell."
   ]
  },
  {
   "cell_type": "markdown",
   "metadata": {},
   "source": [
    "### Text Cells\n",
    "Text cells (like this one) can be edited by double-clicking on them. They're written in a simple format called Markdown to add formatting and section headings. You don't need to learn Markdown, but know the difference between Text Cells and Code Cells."
   ]
  },
  {
   "cell_type": "markdown",
   "metadata": {},
   "source": [
    "### Code Cells \n",
    "Other cells contain code in the Python 3 language. Don't worry -- we'll show you everything you need to know to succeed in this part of the class.\n",
    "\n",
    "The fundamental building block of Python code is an **expression**. Cells can contain multiple lines with multiple expressions. We'll explain what exactly we mean by \"expressions\" in just a moment: first, let's learn how to \"run\" cells."
   ]
  },
  {
   "cell_type": "markdown",
   "metadata": {},
   "source": [
    "### Running Cells\n",
    "\"Running a cell\" is equivalent to pressing \"Enter\" on a calculator once you've typed in the expression you want to evaluate: it produces an output. When you run a text cell, it outputs clean, organized writing. When you run a code cell, it computes all of the expressions you want to evaluate, and can output the result of the computation."
   ]
  },
  {
   "cell_type": "markdown",
   "metadata": {},
   "source": [
    "<p></p>\n",
    "<div class=\"alert alert-info\">\n",
    "To run the code in a code cell, first click on that cell to activate it.  It'll be highlighted with a little green or blue rectangle.  Next, you can either press the <code><b> ▶|</b> Run </code> button above or press <b><code>Shift + Return</code></b> or <b><code>Shift + Enter</code></b>. This will run the current cell and select the next one.\n",
    "</div>\n"
   ]
  },
  {
   "cell_type": "markdown",
   "metadata": {},
   "source": [
    "Text cells are useful for taking notes and keeping your notebook organized, but your data analysis will be done in code cells. We will focus on code cells for the rest of the class."
   ]
  },
  {
   "cell_type": "markdown",
   "metadata": {},
   "source": [
    "#### How to save your work\n",
    "Click on the leftmost icon in the tool bar (left of the plus icon).\n",
    "Alternatively, you can hit Ctrl+S on a PC or Command+Enter on a Mac!"
   ]
  },
  {
   "cell_type": "markdown",
   "metadata": {},
   "source": [
    "### Common errors and how to fix them\n",
    "Do we want errors specific to the errors they would run into on this notebook?? or general errors you might get in jupyter!!??\n",
    "\n",
    "examples of errors, add more cells if necessary"
   ]
  },
  {
   "cell_type": "markdown",
   "metadata": {},
   "source": [
    "### Where to get help - Peer consultants\n",
    "\n",
    "Hi from your peer consultants!"
   ]
  },
  {
   "cell_type": "markdown",
   "metadata": {},
   "source": [
    "# 2. Intro to Python <a id='1'></a>\n",
    "\n",
    "STUFF ABOUT PYTHON"
   ]
  },
  {
   "cell_type": "markdown",
   "metadata": {},
   "source": [
    "SOME EASY CODE EXAMPLES IN PYTHON"
   ]
  },
  {
   "cell_type": "code",
   "execution_count": 12,
   "metadata": {},
   "outputs": [],
   "source": [
    "# These are all pre-written Python packages that we will be using to read in, clean, analyze, and model our data. \n",
    "\n",
    "#import utilities\n",
    "import numpy as np\n",
    "import pandas as pd\n",
    "import matplotlib.pyplot as plt\n",
    "import re\n",
    "from scipy.stats import linregress\n",
    "plt.style.use('fivethirtyeight')\n",
    "import ipywidgets as widgets\n",
    "%matplotlib inline\n",
    "from ipywidgets import interact, interactive, fixed, interact_manual"
   ]
  },
  {
   "cell_type": "code",
   "execution_count": null,
   "metadata": {},
   "outputs": [],
   "source": []
  },
  {
   "cell_type": "code",
   "execution_count": 2,
   "metadata": {},
   "outputs": [
    {
     "ename": "NameError",
     "evalue": "name 'mrsa_2013' is not defined",
     "output_type": "error",
     "traceback": [
      "\u001b[0;31m---------------------------------------------------------------------------\u001b[0m",
      "\u001b[0;31mNameError\u001b[0m                                 Traceback (most recent call last)",
      "\u001b[0;32m<ipython-input-2-f15ede15ac9a>\u001b[0m in \u001b[0;36m<module>\u001b[0;34m\u001b[0m\n\u001b[0;32m----> 1\u001b[0;31m \u001b[0mmrsa_2013\u001b[0m\u001b[0;34m.\u001b[0m\u001b[0mhead\u001b[0m\u001b[0;34m(\u001b[0m\u001b[0;34m)\u001b[0m\u001b[0;34m\u001b[0m\u001b[0;34m\u001b[0m\u001b[0m\n\u001b[0m",
      "\u001b[0;31mNameError\u001b[0m: name 'mrsa_2013' is not defined"
     ]
    }
   ],
   "source": [
    "mrsa_2013.head()"
   ]
  },
  {
   "cell_type": "markdown",
   "metadata": {},
   "source": [
    "# 3. Intro to MRSA <a id='2'></a>\n",
    "\n",
    "text about MRSA"
   ]
  },
  {
   "cell_type": "markdown",
   "metadata": {},
   "source": [
    "<div class=\"alert alert-block alert-warning\">\n",
    "    <b>Discussion Question 1:</b>\n",
    "    <br />\n",
    "   As scientists studying infectious diseases, what kinds of questions should we be asking about MRSA? \n",
    "</div>"
   ]
  },
  {
   "cell_type": "markdown",
   "metadata": {},
   "source": [
    "YOUR RESPONSE HERE"
   ]
  },
  {
   "cell_type": "markdown",
   "metadata": {},
   "source": [
    "# 4. Intro to Data <a id='3'></a>"
   ]
  },
  {
   "cell_type": "markdown",
   "metadata": {},
   "source": [
    "#### 4.1"
   ]
  },
  {
   "cell_type": "code",
   "execution_count": 17,
   "metadata": {},
   "outputs": [],
   "source": [
    "#read in raw data\n",
    "mrsa_2013_raw = pd.read_csv('mrsa raw data/mrsa-in-hospitals-2013.csv')\n",
    "#read in cleaned MRSA data\n",
    "\n",
    "mrsa_2013 = pd.read_csv('mrsa cleaned data/mrsa_2013.csv')\n",
    "mrsa_2014 = pd.read_csv('mrsa cleaned data/mrsa_2014.csv')\n",
    "mrsa_2015 = pd.read_csv('mrsa cleaned data/mrsa_2015.csv')\n",
    "mrsa_2016 = pd.read_csv('mrsa cleaned data/mrsa_2016.csv')\n",
    "mrsa_2017 = pd.read_csv('mrsa cleaned data/mrsa_2017.csv')\n",
    "mrsa_2018 = pd.read_csv('mrsa cleaned data/mrsa_2018.csv')\n",
    "\n",
    "#read in merged data (all of above dataframes combined)\n",
    "mrsa_merged = pd.read_csv('mrsa cleaned data/mrsa_merged.csv')"
   ]
  },
  {
   "cell_type": "markdown",
   "metadata": {},
   "source": [
    "---"
   ]
  },
  {
   "cell_type": "markdown",
   "metadata": {},
   "source": [
    "**Lets see what the raw MRSA data from 2013 looks like!**"
   ]
  },
  {
   "cell_type": "code",
   "execution_count": 21,
   "metadata": {
    "scrolled": false
   },
   "outputs": [
    {
     "data": {
      "text/html": [
       "<div>\n",
       "<style scoped>\n",
       "    .dataframe tbody tr th:only-of-type {\n",
       "        vertical-align: middle;\n",
       "    }\n",
       "\n",
       "    .dataframe tbody tr th {\n",
       "        vertical-align: top;\n",
       "    }\n",
       "\n",
       "    .dataframe thead th {\n",
       "        text-align: right;\n",
       "    }\n",
       "</style>\n",
       "<table border=\"1\" class=\"dataframe\">\n",
       "  <thead>\n",
       "    <tr style=\"text-align: right;\">\n",
       "      <th></th>\n",
       "      <th>Year</th>\n",
       "      <th>State</th>\n",
       "      <th>HAI</th>\n",
       "      <th>Facility_Name1</th>\n",
       "      <th>Facility_Name2</th>\n",
       "      <th>Facility_Name3</th>\n",
       "      <th>FACID1</th>\n",
       "      <th>FACID2</th>\n",
       "      <th>FACID3</th>\n",
       "      <th>County</th>\n",
       "      <th>Infection_Count</th>\n",
       "      <th>Patient_Days</th>\n",
       "      <th>SIR</th>\n",
       "      <th>SIR_95%_CI_Lower_Limit</th>\n",
       "      <th>SIR_95%_CI_Upper_Limit</th>\n",
       "      <th>Comparison</th>\n",
       "      <th>Notes</th>\n",
       "    </tr>\n",
       "  </thead>\n",
       "  <tbody>\n",
       "    <tr>\n",
       "      <th>0</th>\n",
       "      <td>2013</td>\n",
       "      <td>California</td>\n",
       "      <td>Methicillin-Resistant Staphylococcus aureus Bl...</td>\n",
       "      <td>Adventist Medical Center, Hanford</td>\n",
       "      <td>Adventist Medical Center-Selma</td>\n",
       "      <td>.</td>\n",
       "      <td>40000122</td>\n",
       "      <td>630012960</td>\n",
       "      <td>.</td>\n",
       "      <td>Kings-Fresno</td>\n",
       "      <td>2.0</td>\n",
       "      <td>42875.0</td>\n",
       "      <td>0.76</td>\n",
       "      <td>0.13</td>\n",
       "      <td>2.50</td>\n",
       "      <td>No Different</td>\n",
       "      <td>†  See Data Dictionary</td>\n",
       "    </tr>\n",
       "    <tr>\n",
       "      <th>1</th>\n",
       "      <td>2013</td>\n",
       "      <td>California</td>\n",
       "      <td>Methicillin-Resistant Staphylococcus aureus Bl...</td>\n",
       "      <td>Adventist Medical Center, Reedley</td>\n",
       "      <td>.</td>\n",
       "      <td>.</td>\n",
       "      <td>40000124</td>\n",
       "      <td>.</td>\n",
       "      <td>.</td>\n",
       "      <td>Fresno</td>\n",
       "      <td>0.0</td>\n",
       "      <td>5970.0</td>\n",
       "      <td>NaN</td>\n",
       "      <td>NaN</td>\n",
       "      <td>NaN</td>\n",
       "      <td>.</td>\n",
       "      <td>NaN</td>\n",
       "    </tr>\n",
       "    <tr>\n",
       "      <th>2</th>\n",
       "      <td>2013</td>\n",
       "      <td>California</td>\n",
       "      <td>Methicillin-Resistant Staphylococcus aureus Bl...</td>\n",
       "      <td>AHMC Anaheim Regional Medical Center, Anaheim</td>\n",
       "      <td>.</td>\n",
       "      <td>.</td>\n",
       "      <td>60000002</td>\n",
       "      <td>.</td>\n",
       "      <td>.</td>\n",
       "      <td>Orange</td>\n",
       "      <td>3.0</td>\n",
       "      <td>51929.0</td>\n",
       "      <td>1.15</td>\n",
       "      <td>0.29</td>\n",
       "      <td>3.13</td>\n",
       "      <td>No Different</td>\n",
       "      <td>NaN</td>\n",
       "    </tr>\n",
       "  </tbody>\n",
       "</table>\n",
       "</div>"
      ],
      "text/plain": [
       "   Year        State                                                HAI  \\\n",
       "0   2013  California  Methicillin-Resistant Staphylococcus aureus Bl...   \n",
       "1   2013  California  Methicillin-Resistant Staphylococcus aureus Bl...   \n",
       "2   2013  California  Methicillin-Resistant Staphylococcus aureus Bl...   \n",
       "\n",
       "                                  Facility_Name1  \\\n",
       "0              Adventist Medical Center, Hanford   \n",
       "1              Adventist Medical Center, Reedley   \n",
       "2  AHMC Anaheim Regional Medical Center, Anaheim   \n",
       "\n",
       "                   Facility_Name2 Facility_Name3    FACID1     FACID2 FACID3  \\\n",
       "0  Adventist Medical Center-Selma              .  40000122  630012960      .   \n",
       "1                               .              .  40000124          .      .   \n",
       "2                               .              .  60000002          .      .   \n",
       "\n",
       "         County  Infection_Count  Patient_Days  SIR   SIR_95%_CI_Lower_Limit  \\\n",
       "0  Kings-Fresno              2.0       42875.0  0.76                    0.13   \n",
       "1        Fresno              0.0        5970.0   NaN                     NaN   \n",
       "2        Orange              3.0       51929.0  1.15                    0.29   \n",
       "\n",
       "   SIR_95%_CI_Upper_Limit    Comparison                   Notes  \n",
       "0                    2.50  No Different  †  See Data Dictionary  \n",
       "1                     NaN             .                     NaN  \n",
       "2                    3.13  No Different                     NaN  "
      ]
     },
     "execution_count": 21,
     "metadata": {},
     "output_type": "execute_result"
    }
   ],
   "source": [
    "mrsa_2013_raw.head(3)"
   ]
  },
  {
   "cell_type": "markdown",
   "metadata": {},
   "source": [
    "---"
   ]
  },
  {
   "cell_type": "markdown",
   "metadata": {},
   "source": [
    "As you can see, there are a lot of columns here, and a lot of missing information <br>Trust that we 'cleaned' the Data for you!"
   ]
  },
  {
   "cell_type": "code",
   "execution_count": 5,
   "metadata": {},
   "outputs": [
    {
     "data": {
      "text/html": [
       "<div>\n",
       "<style scoped>\n",
       "    .dataframe tbody tr th:only-of-type {\n",
       "        vertical-align: middle;\n",
       "    }\n",
       "\n",
       "    .dataframe tbody tr th {\n",
       "        vertical-align: top;\n",
       "    }\n",
       "\n",
       "    .dataframe thead th {\n",
       "        text-align: right;\n",
       "    }\n",
       "</style>\n",
       "<table border=\"1\" class=\"dataframe\">\n",
       "  <thead>\n",
       "    <tr style=\"text-align: right;\">\n",
       "      <th></th>\n",
       "      <th>Year</th>\n",
       "      <th>State</th>\n",
       "      <th>HAI</th>\n",
       "      <th>Facility1</th>\n",
       "      <th>Facility1_ID</th>\n",
       "      <th>County</th>\n",
       "      <th>Infection_Count</th>\n",
       "      <th>Num_patients</th>\n",
       "    </tr>\n",
       "  </thead>\n",
       "  <tbody>\n",
       "    <tr>\n",
       "      <th>0</th>\n",
       "      <td>2013</td>\n",
       "      <td>California</td>\n",
       "      <td>Methicillin-Resistant Staphylococcus aureus Bl...</td>\n",
       "      <td>Adventist Medical Center, Reedley</td>\n",
       "      <td>40000124</td>\n",
       "      <td>Fresno</td>\n",
       "      <td>0.0</td>\n",
       "      <td>5970.0</td>\n",
       "    </tr>\n",
       "    <tr>\n",
       "      <th>1</th>\n",
       "      <td>2013</td>\n",
       "      <td>California</td>\n",
       "      <td>Methicillin-Resistant Staphylococcus aureus Bl...</td>\n",
       "      <td>AHMC Anaheim Regional Medical Center, Anaheim</td>\n",
       "      <td>60000002</td>\n",
       "      <td>Orange</td>\n",
       "      <td>3.0</td>\n",
       "      <td>51929.0</td>\n",
       "    </tr>\n",
       "    <tr>\n",
       "      <th>2</th>\n",
       "      <td>2013</td>\n",
       "      <td>California</td>\n",
       "      <td>Methicillin-Resistant Staphylococcus aureus Bl...</td>\n",
       "      <td>Alameda County Medical Center, Oakland</td>\n",
       "      <td>140000034</td>\n",
       "      <td>Alameda</td>\n",
       "      <td>7.0</td>\n",
       "      <td>55590.0</td>\n",
       "    </tr>\n",
       "    <tr>\n",
       "      <th>3</th>\n",
       "      <td>2013</td>\n",
       "      <td>California</td>\n",
       "      <td>Methicillin-Resistant Staphylococcus aureus Bl...</td>\n",
       "      <td>Alameda Hospital</td>\n",
       "      <td>140000011</td>\n",
       "      <td>Alameda</td>\n",
       "      <td>0.0</td>\n",
       "      <td>11520.0</td>\n",
       "    </tr>\n",
       "    <tr>\n",
       "      <th>4</th>\n",
       "      <td>2013</td>\n",
       "      <td>California</td>\n",
       "      <td>Methicillin-Resistant Staphylococcus aureus Bl...</td>\n",
       "      <td>Alhambra Hospital Medical Center</td>\n",
       "      <td>930000005</td>\n",
       "      <td>Los Angeles</td>\n",
       "      <td>0.0</td>\n",
       "      <td>19433.0</td>\n",
       "    </tr>\n",
       "  </tbody>\n",
       "</table>\n",
       "</div>"
      ],
      "text/plain": [
       "   Year       State                                                HAI  \\\n",
       "0  2013  California  Methicillin-Resistant Staphylococcus aureus Bl...   \n",
       "1  2013  California  Methicillin-Resistant Staphylococcus aureus Bl...   \n",
       "2  2013  California  Methicillin-Resistant Staphylococcus aureus Bl...   \n",
       "3  2013  California  Methicillin-Resistant Staphylococcus aureus Bl...   \n",
       "4  2013  California  Methicillin-Resistant Staphylococcus aureus Bl...   \n",
       "\n",
       "                                       Facility1  Facility1_ID       County  \\\n",
       "0              Adventist Medical Center, Reedley      40000124       Fresno   \n",
       "1  AHMC Anaheim Regional Medical Center, Anaheim      60000002       Orange   \n",
       "2         Alameda County Medical Center, Oakland     140000034      Alameda   \n",
       "3                               Alameda Hospital     140000011      Alameda   \n",
       "4               Alhambra Hospital Medical Center     930000005  Los Angeles   \n",
       "\n",
       "   Infection_Count  Num_patients  \n",
       "0              0.0        5970.0  \n",
       "1              3.0       51929.0  \n",
       "2              7.0       55590.0  \n",
       "3              0.0       11520.0  \n",
       "4              0.0       19433.0  "
      ]
     },
     "execution_count": 5,
     "metadata": {},
     "output_type": "execute_result"
    }
   ],
   "source": [
    "mrsa_2013.head()"
   ]
  },
  {
   "cell_type": "markdown",
   "metadata": {},
   "source": [
    "#### 4.2"
   ]
  },
  {
   "cell_type": "code",
   "execution_count": null,
   "metadata": {},
   "outputs": [],
   "source": [
    "# rows, columns, values "
   ]
  },
  {
   "cell_type": "markdown",
   "metadata": {},
   "source": [
    "#### 4.3 \n",
    "Data source "
   ]
  },
  {
   "cell_type": "markdown",
   "metadata": {},
   "source": [
    "<div class=\"alert alert-block alert-warning\">\n",
    "    <b>Discussion Question 2:</b>\n",
    "    <br />\n",
    "    Of the questions we asked about MRSA, which are actually answerable given this dataset? Which questions could be answerable with a different dataset? And which would be hard to answer with data (and why)?\n",
    "</div>"
   ]
  },
  {
   "cell_type": "markdown",
   "metadata": {},
   "source": [
    "YOUR RESPONSE HERE"
   ]
  },
  {
   "cell_type": "markdown",
   "metadata": {},
   "source": [
    "# 5. Comparing Infection Rates Over Time\n",
    "Goal: See if and how infection rates change over the time period for which we have data"
   ]
  },
  {
   "cell_type": "code",
   "execution_count": null,
   "metadata": {},
   "outputs": [],
   "source": [
    "# line graph"
   ]
  },
  {
   "cell_type": "code",
   "execution_count": 6,
   "metadata": {},
   "outputs": [
    {
     "data": {
      "application/vnd.jupyter.widget-view+json": {
       "model_id": "2db33188e055446baad65235d2a78592",
       "version_major": 2,
       "version_minor": 0
      },
      "text/plain": [
       "interactive(children=(Dropdown(description='County', options=('Fresno', 'Orange', 'Alameda', 'Los Angeles', 'S…"
      ]
     },
     "metadata": {},
     "output_type": "display_data"
    },
    {
     "data": {
      "text/plain": [
       "<function __main__.line_county(County)>"
      ]
     },
     "execution_count": 6,
     "metadata": {},
     "output_type": "execute_result"
    }
   ],
   "source": [
    "# line graph widget\n",
    "def line_county(County):\n",
    "    plt.figure(figsize=(10,7));\n",
    "    x = list(mrsa_merged.loc[mrsa_merged['County']== County].groupby(['Year']).agg(sum).index)\n",
    "    y = list(mrsa_merged.loc[mrsa_merged['County']== County].groupby(['Year']).agg(sum)['Infection_Count'])\n",
    "    return plt.plot(x,y)\n",
    "\n",
    "wid_1 = widgets.Dropdown(\n",
    "        options = mrsa_merged['County'].unique().tolist(),\n",
    "        description = 'County',\n",
    "        disabled = False\n",
    ")\n",
    "\n",
    "interact(line_county, County = wid_1)"
   ]
  },
  {
   "cell_type": "markdown",
   "metadata": {},
   "source": [
    "<div class=\"alert alert-block alert-warning\">\n",
    "    <b>Discussion Question 3:</b>\n",
    "    <br />\n",
    "    What trends do you identify? What outliers do you see? How would you answer our question (TODO: WHAT IS OUR QUESTION)?\n",
    "</div>\n",
    "\n"
   ]
  },
  {
   "cell_type": "markdown",
   "metadata": {},
   "source": [
    "YOUR RESPONSE HERE"
   ]
  },
  {
   "cell_type": "markdown",
   "metadata": {},
   "source": [
    "# 6. Comparing Country Infection Rates with County Populations\n"
   ]
  },
  {
   "cell_type": "markdown",
   "metadata": {},
   "source": [
    "### 6.1 Population versus infection rate for each county"
   ]
  },
  {
   "cell_type": "code",
   "execution_count": null,
   "metadata": {},
   "outputs": [],
   "source": [
    "# scatter plot widget "
   ]
  },
  {
   "cell_type": "markdown",
   "metadata": {},
   "source": [
    "### [OPTIONAL] 6.2 Chloropleth map"
   ]
  },
  {
   "cell_type": "code",
   "execution_count": null,
   "metadata": {},
   "outputs": [],
   "source": [
    "# chloropleth map widget "
   ]
  },
  {
   "cell_type": "markdown",
   "metadata": {},
   "source": [
    "<div class=\"alert alert-block alert-warning\">\n",
    "    <b>Discussion Question 4:</b>\n",
    "    <br />\n",
    "    What trends/outliers do you see? What would you say overall about the relationship between infection rates and population? \n",
    "</div>\n",
    "\n"
   ]
  },
  {
   "cell_type": "markdown",
   "metadata": {},
   "source": [
    "YOUR RESPONSE HERE"
   ]
  },
  {
   "cell_type": "markdown",
   "metadata": {},
   "source": [
    "<div class=\"alert alert-block alert-warning\">\n",
    "    <b>BONUS CHALLENGE (for folks who have taken Data-8 or beyond)</b>\n",
    "    <br />\n",
    "    Our data sets also have variables we didn’t use, including population split into race and sex subcategories, and infection rates by hospital or predicted vs actual infection rates. Try to alter the given code to compare two new variables. What patterns do you see?\n",
    "\n",
    "</div>\n",
    "\n"
   ]
  },
  {
   "cell_type": "markdown",
   "metadata": {},
   "source": [
    "WRITE YOUR OBSERVATIONS HERE"
   ]
  }
 ],
 "metadata": {
  "kernelspec": {
   "display_name": "Python 3",
   "language": "python",
   "name": "python3"
  },
  "language_info": {
   "codemirror_mode": {
    "name": "ipython",
    "version": 3
   },
   "file_extension": ".py",
   "mimetype": "text/x-python",
   "name": "python",
   "nbconvert_exporter": "python",
   "pygments_lexer": "ipython3",
   "version": "3.6.9"
  }
 },
 "nbformat": 4,
 "nbformat_minor": 4
}
