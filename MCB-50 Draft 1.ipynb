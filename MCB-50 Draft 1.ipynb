{
 "cells": [
  {
   "cell_type": "markdown",
   "metadata": {},
   "source": [
    "# MCB 50: Immunology & Disease"
   ]
  },
  {
   "cell_type": "markdown",
   "metadata": {},
   "source": [
    "**Estimated Time**: 30-40 minutes <br>\n",
    "**Databook created by**: Rucha Kelkar, Harry Li, Elias Saravia"
   ]
  },
  {
   "cell_type": "markdown",
   "metadata": {},
   "source": [
    "Today we will be examining a dataset (i.e. a table) on....."
   ]
  },
  {
   "cell_type": "markdown",
   "metadata": {},
   "source": [
    "### Table of Contents\n",
    "1. [Intro to Jupyter](#0) <br>\n",
    "1. [Intro to Python](#1) <br>\n",
    "1. [Intro to MRSA](#2) <br>\n",
    "1. [Intro to dataset](#3) <br>\n",
    "1. [Question 1](#4) <br>\n",
    "1. [Question 2](#5) <br>"
   ]
  },
  {
   "cell_type": "markdown",
   "metadata": {},
   "source": [
    "# 1. Intro to Jupyter <a id='0'></a>\n",
    "\n",
    "This webpage is a Jupyter Notebook. Jupyter Notebooks run on the Python coding language and provides an interactive interface for students. We will use this notebook to analyze the Uppsala Conflict Data Program's (UCDP) Conflict Termination Dataset v.2-2015 (Kreutz 2010). Jupyter Notebooks are composed of both regular text and code cells. Code cells have a gray background. In order to run a code cell, click the cell and press Shift + Enter while the cell is selected or hit the ▶| Run button in the toolbar at the top. An example of a code cell is below. You can also save your work using the button on the top left hand corner.\n",
    "\n",
    "This code cell imports packages and methods that will be utilized throughout for analysis (e.g. creating graphs, widgets, etc.). Try running it. If everything works properly, the word \"Success\" should be printed under the cell."
   ]
  },
  {
   "cell_type": "markdown",
   "metadata": {},
   "source": [
    "### 1.1 Types of Cells"
   ]
  },
  {
   "cell_type": "markdown",
   "metadata": {},
   "source": [
    "#### Text Cells\n",
    "Text cells (like this one) can be edited by double-clicking on them. They're written in a simple format called Markdown to add formatting and section headings. You don't need to learn Markdown, but know the difference between Text Cells and Code Cells."
   ]
  },
  {
   "cell_type": "markdown",
   "metadata": {},
   "source": [
    "#### Code Cells \n",
    "Other cells contain code in the Python 3 language. Don't worry -- we'll show you everything you need to know to succeed in this part of the class.\n",
    "\n",
    "The fundamental building block of Python code is an **expression**. Cells can contain multiple lines with multiple expressions. We'll explain what exactly we mean by \"expressions\" in just a moment: first, let's learn how to \"run\" cells."
   ]
  },
  {
   "cell_type": "markdown",
   "metadata": {},
   "source": [
    "#### Running Cells\n",
    "\"Running a cell\" is equivalent to pressing \"Enter\" on a calculator once you've typed in the expression you want to evaluate: it produces an output. When you run a text cell, it outputs clean, organized writing. When you run a code cell, it computes all of the expressions you want to evaluate, and can output the result of the computation."
   ]
  },
  {
   "cell_type": "markdown",
   "metadata": {},
   "source": [
    "<p></p>\n",
    "<div class=\"alert alert-info\">\n",
    "To run the code in a code cell, first click on that cell to activate it.  It'll be highlighted with a little green or blue rectangle.  Next, you can either press the <code><b> ▶|</b> Run </code> button above or press <b><code>Shift + Return</code></b> or <b><code>Shift + Enter</code></b>. This will run the current cell and select the next one.\n",
    "</div>\n"
   ]
  },
  {
   "cell_type": "markdown",
   "metadata": {},
   "source": [
    "Text cells are useful for taking notes and keeping your notebook organized, but your data analysis will be done in code cells. We will focus on code cells for the rest of the class."
   ]
  },
  {
   "cell_type": "markdown",
   "metadata": {},
   "source": [
    "#### How to save your work\n",
    "Click on the leftmost icon in the tool bar (left of the plus icon).\n",
    "Alternatively, you can hit Ctrl+S on a PC or Command+Enter on a Mac!"
   ]
  },
  {
   "cell_type": "markdown",
   "metadata": {},
   "source": [
    "### 1.2 Common errors and how to fix them\n",
    "Do we want errors specific to the errors they would run into on this notebook? or general errors you might get in jupyter?\n",
    "\n",
    "examples of errors, add more cells if necessary"
   ]
  },
  {
   "cell_type": "markdown",
   "metadata": {},
   "source": [
    "### 1.3 Where to get help - Peer consultants\n",
    "\n",
    "This class as well as the Division of Computing, Data Science, and Society has many resources to help you gain the most out of this assignment. Primarily, you can ask your peer consultants walking around this lab section for help if you run into \n",
    "\n",
    "Hi from your peer consultants!"
   ]
  },
  {
   "cell_type": "markdown",
   "metadata": {},
   "source": [
    "---"
   ]
  },
  {
   "cell_type": "markdown",
   "metadata": {},
   "source": [
    "# 2. Intro to Python <a id='1'></a>\n",
    "\n",
    "STUFF ABOUT PYTHON"
   ]
  },
  {
   "cell_type": "markdown",
   "metadata": {},
   "source": [
    "SOME EASY CODE EXAMPLES IN PYTHON"
   ]
  },
  {
   "cell_type": "markdown",
   "metadata": {},
   "source": [
    "The cell below sets up the notebook by importing pre-written Python packages that we will be using to read in, clean, analyze, and model our data. Run it, and once it is done, you should see the word \"Done!\" printed underneath the cell. "
   ]
  },
  {
   "cell_type": "code",
   "execution_count": 1,
   "metadata": {},
   "outputs": [
    {
     "name": "stdout",
     "output_type": "stream",
     "text": [
      "Done!\n"
     ]
    }
   ],
   "source": [
    "## DO NOT DELETE ANYTHING IN THIS CELL ##\n",
    "\n",
    "#import utilities\n",
    "import numpy as np\n",
    "import pandas as pd\n",
    "import matplotlib.pyplot as plt\n",
    "import seaborn as sns\n",
    "plt.style.use('fivethirtyeight')\n",
    "import ipywidgets as widgets\n",
    "%matplotlib inline\n",
    "from ipywidgets import interact, interactive, fixed, interact_manual\n",
    "\n",
    "print(\"Done!\")"
   ]
  },
  {
   "cell_type": "markdown",
   "metadata": {},
   "source": [
    "---"
   ]
  },
  {
   "cell_type": "markdown",
   "metadata": {},
   "source": [
    "# 3. Intro to MRSA <a id='2'></a>\n"
   ]
  },
  {
   "cell_type": "markdown",
   "metadata": {},
   "source": [
    "#### 3.1 What is MRSA?\n",
    "\n",
    "MRSA - Methicillin-resistant Staphylococcus aureus is one strain of bacterium (commonly known as a staph infection) that is resistant to several common antibiotics. It exists in both community settings as well as in hospital settings. In the community, MRSA most often causes skin infections, such as boils or rashes, or even pneumonia in some cases. In a hospital setting, it can cause severe problems including bloodstream infections, penumonia, or surgical site infection. \n"
   ]
  },
  {
   "cell_type": "markdown",
   "metadata": {},
   "source": [
    "#### 3.2 How can it be treated?\n",
    "\n",
    "The MRSA bateria is spread by direct contact with people who are infected or carrying it. Though many people may be carrying the MRSA bacterium, it is not a problem until it infects the body, often through a cut or open wound. Thus, the best way to keep the infection from occurring is to regularly maintain good hand and body hygiene, keep cuts and scrapes clean and covered, and avoid sharing personal items such as dirty clothes, towels, or razors. "
   ]
  },
  {
   "cell_type": "markdown",
   "metadata": {},
   "source": [
    "#### 3.3 More Information\n",
    "\n",
    "To read more about MRSA, see this [link](https://www.cdc.gov/mrsa/community/index.html)<br>\n",
    "To read more about the California data sets on MRSA infections that we will be working with, see this [link](https://data.chhs.ca.gov/dataset/methicillin-resistant-staphylococcus-aureus-mrsa-bloodstream-infections-bsi-in-california-hospitals)"
   ]
  },
  {
   "cell_type": "markdown",
   "metadata": {},
   "source": [
    "### Discussion Question 1: \n",
    "**As scientists studying infectious diseases, what kinds of questions should we be asking about MRSA?**"
   ]
  },
  {
   "cell_type": "markdown",
   "metadata": {},
   "source": [
    "YOUR RESPONSE HERE \n",
    "<br> [Note: To replace this text, double click on the placeholder text, and when you are finished, run the cell to save your work]"
   ]
  },
  {
   "cell_type": "markdown",
   "metadata": {},
   "source": [
    "---"
   ]
  },
  {
   "cell_type": "markdown",
   "metadata": {},
   "source": [
    "# 4. Intro to Data <a id='3'></a>"
   ]
  },
  {
   "cell_type": "markdown",
   "metadata": {},
   "source": [
    "#### 4.1"
   ]
  },
  {
   "cell_type": "code",
   "execution_count": 2,
   "metadata": {},
   "outputs": [
    {
     "name": "stdout",
     "output_type": "stream",
     "text": [
      "Done!\n"
     ]
    }
   ],
   "source": [
    "# This cell will read in the necessary data sets. Run it and take a look at the dataframes below!\n",
    "\n",
    "mrsa_merged = pd.read_csv('mrsa cleaned data/mrsa_merged.csv') #merged mrsa data\n",
    "infec_pop_merge = pd.read_csv('mrsa cleaned data/infec_pop_merge.csv') #combined mrsa and population data\n",
    "\n",
    "print(\"Done!\")"
   ]
  },
  {
   "cell_type": "markdown",
   "metadata": {},
   "source": [
    "---"
   ]
  },
  {
   "cell_type": "markdown",
   "metadata": {},
   "source": [
    "Lets see what the raw MRSA data from the latest year, 2013, looks like. You can scroll horizontally to see all of the columns that are included in the table."
   ]
  },
  {
   "cell_type": "code",
   "execution_count": 3,
   "metadata": {
    "scrolled": false
   },
   "outputs": [
    {
     "data": {
      "text/html": [
       "<div>\n",
       "<style scoped>\n",
       "    .dataframe tbody tr th:only-of-type {\n",
       "        vertical-align: middle;\n",
       "    }\n",
       "\n",
       "    .dataframe tbody tr th {\n",
       "        vertical-align: top;\n",
       "    }\n",
       "\n",
       "    .dataframe thead th {\n",
       "        text-align: right;\n",
       "    }\n",
       "</style>\n",
       "<table border=\"1\" class=\"dataframe\">\n",
       "  <thead>\n",
       "    <tr style=\"text-align: right;\">\n",
       "      <th></th>\n",
       "      <th>Year</th>\n",
       "      <th>State</th>\n",
       "      <th>HAI</th>\n",
       "      <th>Facility_Name1</th>\n",
       "      <th>Facility_Name2</th>\n",
       "      <th>Facility_Name3</th>\n",
       "      <th>FACID1</th>\n",
       "      <th>FACID2</th>\n",
       "      <th>FACID3</th>\n",
       "      <th>County</th>\n",
       "      <th>Infection_Count</th>\n",
       "      <th>Patient_Days</th>\n",
       "      <th>SIR</th>\n",
       "      <th>SIR_95%_CI_Lower_Limit</th>\n",
       "      <th>SIR_95%_CI_Upper_Limit</th>\n",
       "      <th>Comparison</th>\n",
       "      <th>Notes</th>\n",
       "    </tr>\n",
       "  </thead>\n",
       "  <tbody>\n",
       "    <tr>\n",
       "      <th>0</th>\n",
       "      <td>2013</td>\n",
       "      <td>California</td>\n",
       "      <td>Methicillin-Resistant Staphylococcus aureus Bl...</td>\n",
       "      <td>Adventist Medical Center, Hanford</td>\n",
       "      <td>Adventist Medical Center-Selma</td>\n",
       "      <td>.</td>\n",
       "      <td>40000122</td>\n",
       "      <td>630012960</td>\n",
       "      <td>.</td>\n",
       "      <td>Kings-Fresno</td>\n",
       "      <td>2.0</td>\n",
       "      <td>42875.0</td>\n",
       "      <td>0.76</td>\n",
       "      <td>0.13</td>\n",
       "      <td>2.50</td>\n",
       "      <td>No Different</td>\n",
       "      <td>†  See Data Dictionary</td>\n",
       "    </tr>\n",
       "    <tr>\n",
       "      <th>1</th>\n",
       "      <td>2013</td>\n",
       "      <td>California</td>\n",
       "      <td>Methicillin-Resistant Staphylococcus aureus Bl...</td>\n",
       "      <td>Adventist Medical Center, Reedley</td>\n",
       "      <td>.</td>\n",
       "      <td>.</td>\n",
       "      <td>40000124</td>\n",
       "      <td>.</td>\n",
       "      <td>.</td>\n",
       "      <td>Fresno</td>\n",
       "      <td>0.0</td>\n",
       "      <td>5970.0</td>\n",
       "      <td>NaN</td>\n",
       "      <td>NaN</td>\n",
       "      <td>NaN</td>\n",
       "      <td>.</td>\n",
       "      <td>NaN</td>\n",
       "    </tr>\n",
       "    <tr>\n",
       "      <th>2</th>\n",
       "      <td>2013</td>\n",
       "      <td>California</td>\n",
       "      <td>Methicillin-Resistant Staphylococcus aureus Bl...</td>\n",
       "      <td>AHMC Anaheim Regional Medical Center, Anaheim</td>\n",
       "      <td>.</td>\n",
       "      <td>.</td>\n",
       "      <td>60000002</td>\n",
       "      <td>.</td>\n",
       "      <td>.</td>\n",
       "      <td>Orange</td>\n",
       "      <td>3.0</td>\n",
       "      <td>51929.0</td>\n",
       "      <td>1.15</td>\n",
       "      <td>0.29</td>\n",
       "      <td>3.13</td>\n",
       "      <td>No Different</td>\n",
       "      <td>NaN</td>\n",
       "    </tr>\n",
       "    <tr>\n",
       "      <th>3</th>\n",
       "      <td>2013</td>\n",
       "      <td>California</td>\n",
       "      <td>Methicillin-Resistant Staphylococcus aureus Bl...</td>\n",
       "      <td>Alameda County Medical Center, Oakland</td>\n",
       "      <td>Alameda County Medical Center-Fairmont Campus,...</td>\n",
       "      <td>.</td>\n",
       "      <td>140000034</td>\n",
       "      <td>140000184</td>\n",
       "      <td>.</td>\n",
       "      <td>Alameda</td>\n",
       "      <td>7.0</td>\n",
       "      <td>55590.0</td>\n",
       "      <td>2.09</td>\n",
       "      <td>0.91</td>\n",
       "      <td>4.12</td>\n",
       "      <td>No Different</td>\n",
       "      <td>†  See Data Dictionary</td>\n",
       "    </tr>\n",
       "    <tr>\n",
       "      <th>4</th>\n",
       "      <td>2013</td>\n",
       "      <td>California</td>\n",
       "      <td>Methicillin-Resistant Staphylococcus aureus Bl...</td>\n",
       "      <td>Alameda Hospital</td>\n",
       "      <td>.</td>\n",
       "      <td>.</td>\n",
       "      <td>140000011</td>\n",
       "      <td>.</td>\n",
       "      <td>.</td>\n",
       "      <td>Alameda</td>\n",
       "      <td>0.0</td>\n",
       "      <td>11520.0</td>\n",
       "      <td>0.00</td>\n",
       "      <td>0.00</td>\n",
       "      <td>2.88</td>\n",
       "      <td>No Different</td>\n",
       "      <td>NaN</td>\n",
       "    </tr>\n",
       "  </tbody>\n",
       "</table>\n",
       "</div>"
      ],
      "text/plain": [
       "   Year        State                                                HAI  \\\n",
       "0   2013  California  Methicillin-Resistant Staphylococcus aureus Bl...   \n",
       "1   2013  California  Methicillin-Resistant Staphylococcus aureus Bl...   \n",
       "2   2013  California  Methicillin-Resistant Staphylococcus aureus Bl...   \n",
       "3   2013  California  Methicillin-Resistant Staphylococcus aureus Bl...   \n",
       "4   2013  California  Methicillin-Resistant Staphylococcus aureus Bl...   \n",
       "\n",
       "                                  Facility_Name1  \\\n",
       "0              Adventist Medical Center, Hanford   \n",
       "1              Adventist Medical Center, Reedley   \n",
       "2  AHMC Anaheim Regional Medical Center, Anaheim   \n",
       "3         Alameda County Medical Center, Oakland   \n",
       "4                               Alameda Hospital   \n",
       "\n",
       "                                      Facility_Name2 Facility_Name3  \\\n",
       "0                     Adventist Medical Center-Selma              .   \n",
       "1                                                  .              .   \n",
       "2                                                  .              .   \n",
       "3  Alameda County Medical Center-Fairmont Campus,...              .   \n",
       "4                                                  .              .   \n",
       "\n",
       "      FACID1     FACID2 FACID3        County  Infection_Count  Patient_Days  \\\n",
       "0   40000122  630012960      .  Kings-Fresno              2.0       42875.0   \n",
       "1   40000124          .      .        Fresno              0.0        5970.0   \n",
       "2   60000002          .      .        Orange              3.0       51929.0   \n",
       "3  140000034  140000184      .       Alameda              7.0       55590.0   \n",
       "4  140000011          .      .       Alameda              0.0       11520.0   \n",
       "\n",
       "   SIR   SIR_95%_CI_Lower_Limit  SIR_95%_CI_Upper_Limit    Comparison  \\\n",
       "0  0.76                    0.13                    2.50  No Different   \n",
       "1   NaN                     NaN                     NaN             .   \n",
       "2  1.15                    0.29                    3.13  No Different   \n",
       "3  2.09                    0.91                    4.12  No Different   \n",
       "4  0.00                    0.00                    2.88  No Different   \n",
       "\n",
       "                    Notes  \n",
       "0  †  See Data Dictionary  \n",
       "1                     NaN  \n",
       "2                     NaN  \n",
       "3  †  See Data Dictionary  \n",
       "4                     NaN  "
      ]
     },
     "execution_count": 3,
     "metadata": {},
     "output_type": "execute_result"
    }
   ],
   "source": [
    "mrsa_2013_raw = pd.read_csv('mrsa raw data/mrsa-in-hospitals-2013.csv') #raw data\n",
    "mrsa_2013_raw.head()"
   ]
  },
  {
   "cell_type": "markdown",
   "metadata": {},
   "source": [
    "Shown above are the first five rows of the the data table. As you can see, there are a lot of columns as well as a lot of missing information in some of the columns. We have cleaned the data for you by removing any unncessary features and renaming the columns to make their purpose more clear. See the cleaned data set from 2013 below. "
   ]
  },
  {
   "cell_type": "code",
   "execution_count": 4,
   "metadata": {},
   "outputs": [
    {
     "data": {
      "text/html": [
       "<div>\n",
       "<style scoped>\n",
       "    .dataframe tbody tr th:only-of-type {\n",
       "        vertical-align: middle;\n",
       "    }\n",
       "\n",
       "    .dataframe tbody tr th {\n",
       "        vertical-align: top;\n",
       "    }\n",
       "\n",
       "    .dataframe thead th {\n",
       "        text-align: right;\n",
       "    }\n",
       "</style>\n",
       "<table border=\"1\" class=\"dataframe\">\n",
       "  <thead>\n",
       "    <tr style=\"text-align: right;\">\n",
       "      <th></th>\n",
       "      <th>Year</th>\n",
       "      <th>State</th>\n",
       "      <th>HAI</th>\n",
       "      <th>Facility1</th>\n",
       "      <th>Facility1_ID</th>\n",
       "      <th>County</th>\n",
       "      <th>Infection_Count</th>\n",
       "      <th>Num_patients</th>\n",
       "    </tr>\n",
       "  </thead>\n",
       "  <tbody>\n",
       "    <tr>\n",
       "      <th>0</th>\n",
       "      <td>2013</td>\n",
       "      <td>California</td>\n",
       "      <td>Methicillin-Resistant Staphylococcus aureus Bl...</td>\n",
       "      <td>Adventist Medical Center, Reedley</td>\n",
       "      <td>40000124</td>\n",
       "      <td>Fresno</td>\n",
       "      <td>0.0</td>\n",
       "      <td>5970.0</td>\n",
       "    </tr>\n",
       "    <tr>\n",
       "      <th>1</th>\n",
       "      <td>2013</td>\n",
       "      <td>California</td>\n",
       "      <td>Methicillin-Resistant Staphylococcus aureus Bl...</td>\n",
       "      <td>AHMC Anaheim Regional Medical Center, Anaheim</td>\n",
       "      <td>60000002</td>\n",
       "      <td>Orange</td>\n",
       "      <td>3.0</td>\n",
       "      <td>51929.0</td>\n",
       "    </tr>\n",
       "    <tr>\n",
       "      <th>2</th>\n",
       "      <td>2013</td>\n",
       "      <td>California</td>\n",
       "      <td>Methicillin-Resistant Staphylococcus aureus Bl...</td>\n",
       "      <td>Alameda County Medical Center, Oakland</td>\n",
       "      <td>140000034</td>\n",
       "      <td>Alameda</td>\n",
       "      <td>7.0</td>\n",
       "      <td>55590.0</td>\n",
       "    </tr>\n",
       "    <tr>\n",
       "      <th>3</th>\n",
       "      <td>2013</td>\n",
       "      <td>California</td>\n",
       "      <td>Methicillin-Resistant Staphylococcus aureus Bl...</td>\n",
       "      <td>Alameda Hospital</td>\n",
       "      <td>140000011</td>\n",
       "      <td>Alameda</td>\n",
       "      <td>0.0</td>\n",
       "      <td>11520.0</td>\n",
       "    </tr>\n",
       "    <tr>\n",
       "      <th>4</th>\n",
       "      <td>2013</td>\n",
       "      <td>California</td>\n",
       "      <td>Methicillin-Resistant Staphylococcus aureus Bl...</td>\n",
       "      <td>Alhambra Hospital Medical Center</td>\n",
       "      <td>930000005</td>\n",
       "      <td>Los Angeles</td>\n",
       "      <td>0.0</td>\n",
       "      <td>19433.0</td>\n",
       "    </tr>\n",
       "  </tbody>\n",
       "</table>\n",
       "</div>"
      ],
      "text/plain": [
       "   Year       State                                                HAI  \\\n",
       "0  2013  California  Methicillin-Resistant Staphylococcus aureus Bl...   \n",
       "1  2013  California  Methicillin-Resistant Staphylococcus aureus Bl...   \n",
       "2  2013  California  Methicillin-Resistant Staphylococcus aureus Bl...   \n",
       "3  2013  California  Methicillin-Resistant Staphylococcus aureus Bl...   \n",
       "4  2013  California  Methicillin-Resistant Staphylococcus aureus Bl...   \n",
       "\n",
       "                                       Facility1  Facility1_ID       County  \\\n",
       "0              Adventist Medical Center, Reedley      40000124       Fresno   \n",
       "1  AHMC Anaheim Regional Medical Center, Anaheim      60000002       Orange   \n",
       "2         Alameda County Medical Center, Oakland     140000034      Alameda   \n",
       "3                               Alameda Hospital     140000011      Alameda   \n",
       "4               Alhambra Hospital Medical Center     930000005  Los Angeles   \n",
       "\n",
       "   Infection_Count  Num_patients  \n",
       "0              0.0        5970.0  \n",
       "1              3.0       51929.0  \n",
       "2              7.0       55590.0  \n",
       "3              0.0       11520.0  \n",
       "4              0.0       19433.0  "
      ]
     },
     "execution_count": 4,
     "metadata": {},
     "output_type": "execute_result"
    }
   ],
   "source": [
    "mrsa_2013 = pd.read_csv('mrsa cleaned data/mrsa_2013.csv') #cleaned data\n",
    "mrsa_2013.head()"
   ]
  },
  {
   "cell_type": "markdown",
   "metadata": {},
   "source": [
    "---"
   ]
  },
  {
   "cell_type": "markdown",
   "metadata": {},
   "source": [
    "#### 4.2 Breaking down the table"
   ]
  },
  {
   "cell_type": "markdown",
   "metadata": {},
   "source": [
    "##### 4.2.1 Rows\n",
    "\n",
    "Let's take a look at the first row of the mrsa 2013 data set. "
   ]
  },
  {
   "cell_type": "code",
   "execution_count": 31,
   "metadata": {},
   "outputs": [
    {
     "data": {
      "text/html": [
       "<div>\n",
       "<style scoped>\n",
       "    .dataframe tbody tr th:only-of-type {\n",
       "        vertical-align: middle;\n",
       "    }\n",
       "\n",
       "    .dataframe tbody tr th {\n",
       "        vertical-align: top;\n",
       "    }\n",
       "\n",
       "    .dataframe thead th {\n",
       "        text-align: right;\n",
       "    }\n",
       "</style>\n",
       "<table border=\"1\" class=\"dataframe\">\n",
       "  <thead>\n",
       "    <tr style=\"text-align: right;\">\n",
       "      <th></th>\n",
       "      <th>Year</th>\n",
       "      <th>State</th>\n",
       "      <th>HAI</th>\n",
       "      <th>Facility1</th>\n",
       "      <th>Facility1_ID</th>\n",
       "      <th>County</th>\n",
       "      <th>Infection_Count</th>\n",
       "      <th>Num_patients</th>\n",
       "    </tr>\n",
       "  </thead>\n",
       "  <tbody>\n",
       "    <tr>\n",
       "      <th>0</th>\n",
       "      <td>2013</td>\n",
       "      <td>California</td>\n",
       "      <td>Methicillin-Resistant Staphylococcus aureus Bl...</td>\n",
       "      <td>Adventist Medical Center, Reedley</td>\n",
       "      <td>40000124</td>\n",
       "      <td>Fresno</td>\n",
       "      <td>0.0</td>\n",
       "      <td>5970.0</td>\n",
       "    </tr>\n",
       "  </tbody>\n",
       "</table>\n",
       "</div>"
      ],
      "text/plain": [
       "   Year       State                                                HAI  \\\n",
       "0  2013  California  Methicillin-Resistant Staphylococcus aureus Bl...   \n",
       "\n",
       "                           Facility1  Facility1_ID  County  Infection_Count  \\\n",
       "0  Adventist Medical Center, Reedley      40000124  Fresno              0.0   \n",
       "\n",
       "   Num_patients  \n",
       "0        5970.0  "
      ]
     },
     "execution_count": 31,
     "metadata": {},
     "output_type": "execute_result"
    }
   ],
   "source": [
    "mrsa_2013.take([0])"
   ]
  },
  {
   "cell_type": "markdown",
   "metadata": {},
   "source": [
    "What does this particular row, or record, represent? See if you can figure out what kind of information is held in this record. \n",
    "\n",
    "Thought about it? If you concluded that this is a record of a report done in 2013 in California of the count of MRSA infections at the Adventist Medical Center, Reedley in Fresno County, you got it! \n",
    "\n",
    "Try analyzing another row, just change the number '0' in the above code cell to see that numbered row (make sure your number is less than 352 -- that's the number of rows in the table. "
   ]
  },
  {
   "cell_type": "markdown",
   "metadata": {},
   "source": [
    "#### 4.2.2. Columns\n",
    "See below a list of the columns in the cleaned data set. "
   ]
  },
  {
   "cell_type": "code",
   "execution_count": 11,
   "metadata": {},
   "outputs": [
    {
     "data": {
      "text/plain": [
       "['Year',\n",
       " 'State',\n",
       " 'HAI',\n",
       " 'Facility1',\n",
       " 'Facility1_ID',\n",
       " 'County',\n",
       " 'Infection_Count',\n",
       " 'Num_patients']"
      ]
     },
     "execution_count": 11,
     "metadata": {},
     "output_type": "execute_result"
    }
   ],
   "source": [
    "mrsa_2013.columns.tolist()"
   ]
  },
  {
   "cell_type": "markdown",
   "metadata": {},
   "source": [
    "Self-explanatory?"
   ]
  },
  {
   "cell_type": "markdown",
   "metadata": {},
   "source": [
    "#### 4.3 \n",
    "Data source description\n",
    "\n",
    "See this [link](https://data.chhs.ca.gov/dataset/methicillin-resistant-staphylococcus-aureus-mrsa-bloodstream-infections-bsi-in-california-hospitals) for more information on the data source."
   ]
  },
  {
   "cell_type": "markdown",
   "metadata": {},
   "source": [
    "### Discussion Question 2:\n",
    "**Of the questions we asked about MRSA, which are actually answerable given this dataset? Which questions could be answerable with a different dataset? And which would be hard to answer with data (and why)?**"
   ]
  },
  {
   "cell_type": "markdown",
   "metadata": {},
   "source": [
    "YOUR RESPONSE HERE\n",
    "<br> [Note: To replace this text, double click on the placeholder text, and when you are finished, run the cell to save your work]"
   ]
  },
  {
   "cell_type": "markdown",
   "metadata": {},
   "source": [
    "# 5. Comparing Infection Rates Over Time\n",
    "Goal: See if and how infection rates change over the time period for which we have data"
   ]
  },
  {
   "cell_type": "code",
   "execution_count": 49,
   "metadata": {},
   "outputs": [],
   "source": [
    "# from widgets import infection_rates_per_county\n",
    "\n",
    "# infection_rates_per_county()\n",
    "\n",
    "# TODO: the widgets code below won't be displayed in the final notebook once we are able to figure out how to run it from \n",
    "# a different file. Proceed! "
   ]
  },
  {
   "cell_type": "code",
   "execution_count": 38,
   "metadata": {},
   "outputs": [
    {
     "data": {
      "application/vnd.jupyter.widget-view+json": {
       "model_id": "71282c1c9bc94cfe91521fd2d8cc9653",
       "version_major": 2,
       "version_minor": 0
      },
      "text/plain": [
       "interactive(children=(Dropdown(description='County', options=('Fresno', 'Orange', 'Alameda', 'Los Angeles', 'S…"
      ]
     },
     "metadata": {},
     "output_type": "display_data"
    }
   ],
   "source": [
    "# line graph widget\n",
    "def line_county(county):\n",
    "    plt.figure(figsize=(10,5));\n",
    "    x = list(mrsa_merged.loc[mrsa_merged['County']== county].groupby(['Year']).agg(sum).index)\n",
    "    y = list(mrsa_merged.loc[mrsa_merged['County']== county].groupby(['Year']).agg(sum)['Infection_Count'])\n",
    "    sns.lineplot(x,y)\n",
    "    title = 'Infection Count in '+county+' County Per Year'\n",
    "    plt.title(title)\n",
    "    plt.xlabel(\"Year\")\n",
    "    plt.ylabel(\"County\");\n",
    "    return \n",
    "\n",
    "wid_1 = widgets.Dropdown(\n",
    "        options = mrsa_merged['County'].unique().tolist(),\n",
    "        description = 'County',\n",
    "        disabled = False\n",
    ")\n",
    "\n",
    "interact(line_county, county = wid_1);"
   ]
  },
  {
   "cell_type": "markdown",
   "metadata": {},
   "source": [
    "### Discussion Question 3:\n",
    "**What trends do you identify? What outliers do you see? How would you answer our question (TODO: WHAT IS OUR QUESTION)?**\n"
   ]
  },
  {
   "cell_type": "markdown",
   "metadata": {},
   "source": [
    "YOUR RESPONSE HERE\n",
    "<br> [Note: To replace this text, double click on the placeholder text, and when you are finished, run the cell to save your work]"
   ]
  },
  {
   "cell_type": "markdown",
   "metadata": {},
   "source": [
    "# 6. Comparing Country Infection Rates with County Populations\n"
   ]
  },
  {
   "cell_type": "markdown",
   "metadata": {},
   "source": [
    "### 6.1 Population versus infection rate for each county"
   ]
  },
  {
   "cell_type": "code",
   "execution_count": 41,
   "metadata": {},
   "outputs": [
    {
     "data": {
      "application/vnd.jupyter.widget-view+json": {
       "model_id": "6c9b21ddbae74d07832aaf9f143d6211",
       "version_major": 2,
       "version_minor": 0
      },
      "text/plain": [
       "interactive(children=(Dropdown(description='County', options=('Alameda', 'Amador', 'Butte', 'Calaveras', 'Colu…"
      ]
     },
     "metadata": {},
     "output_type": "display_data"
    }
   ],
   "source": [
    "# scatter plot widget - population versus infection rate per county by year\n",
    "def pop_v_infec_by_county(county):    \n",
    "    \n",
    "    df = infec_pop_merge.loc[infec_pop_merge['County'] == county]  \n",
    "    p = sns.lmplot(x='Total_Population',y='Infection_Count',data=df,ci=None,aspect=2)\n",
    "    title = 'Population Versus Infection Count in '+county+' County by Year'\n",
    "    plt.title(title)\n",
    "    plt.xlabel(\"Total Population by Year\")\n",
    "    plt.ylabel(\"Infection Rate\")\n",
    "    plt.setp(p.ax.lines,linewidth=2)\n",
    "    return \n",
    "\n",
    "wid_2 = widgets.Dropdown(\n",
    "        options = infec_pop_merge['County'].unique().tolist(),\n",
    "        description = 'County',\n",
    "        disabled = False\n",
    ")\n",
    "\n",
    "interact(pop_v_infec_by_county, county = wid_2);"
   ]
  },
  {
   "cell_type": "code",
   "execution_count": 44,
   "metadata": {},
   "outputs": [
    {
     "data": {
      "application/vnd.jupyter.widget-view+json": {
       "model_id": "d3efae029ba945b3bf6a15e59bbc76b7",
       "version_major": 2,
       "version_minor": 0
      },
      "text/plain": [
       "interactive(children=(Dropdown(description='Year', options=(2013, 2014, 2015, 2016, 2017, 2018), value=2013), …"
      ]
     },
     "metadata": {},
     "output_type": "display_data"
    }
   ],
   "source": [
    "# scatter plot widget - population versus infection rate by year\n",
    "def pop_v_infec_by_year(year):    \n",
    "    \n",
    "    df = infec_pop_merge.loc[infec_pop_merge['Year'] == year]  \n",
    "    p = sns.lmplot(x='Total_Population',y='Infection_Count',data=df,ci=None,aspect=2)\n",
    "    title = 'Population Versus Infection Count Across All Counties in '+str(year)\n",
    "    plt.title(title)\n",
    "    plt.xlabel(\"Total Population\")\n",
    "    plt.ylabel(\"Infection Rate \")\n",
    "    plt.setp(p.ax.lines,linewidth=2)\n",
    "    return \n",
    "\n",
    "wid_3 = widgets.Dropdown(\n",
    "        options = infec_pop_merge['Year'].unique().tolist(),\n",
    "        description = 'Year',\n",
    "        disabled = False\n",
    ")\n",
    "\n",
    "interact(pop_v_infec_by_year, year = wid_3);"
   ]
  },
  {
   "cell_type": "code",
   "execution_count": null,
   "metadata": {},
   "outputs": [],
   "source": []
  },
  {
   "cell_type": "code",
   "execution_count": 47,
   "metadata": {},
   "outputs": [
    {
     "data": {
      "image/png": "[encoded data removed]",
      "text/plain": [
       "<Figure size 720x360 with 1 Axes>"
      ]
     },
     "metadata": {
      "needs_background": "light"
     },
     "output_type": "display_data"
    }
   ],
   "source": [
    "''' \n",
    "Below is the plot of total population versus infection rate for the year 2015 with the maximum value of total population\n",
    "removed from the data set. The regression line has not changed as much and population counts are comparatively less\n",
    "widespread. Still, as from the above graph, there are a lot of points bunched together in the bottom left corner. Is this a \n",
    "better plot to look at than the one displayed in the widget above?\n",
    "'''\n",
    "\n",
    "df = infec_pop_merge.loc[infec_pop_merge['Year'] == 2016]\n",
    "df = df.drop(df['Total_Population'].idxmax())\n",
    "\n",
    "p = sns.lmplot(x='Total_Population',y='Infection_Count',data=df,ci=None,aspect=2)\n",
    "plt.setp(p.ax.lines,linewidth=2);"
   ]
  },
  {
   "cell_type": "markdown",
   "metadata": {},
   "source": [
    "### [OPTIONAL] 6.2 Chloropleth map"
   ]
  },
  {
   "cell_type": "code",
   "execution_count": null,
   "metadata": {},
   "outputs": [],
   "source": [
    "# chloropleth map widget "
   ]
  },
  {
   "cell_type": "markdown",
   "metadata": {},
   "source": [
    "### Discussion Question 4:\n",
    "**What trends/outliers do you see? What would you say overall about the relationship between infection rates and population?**\n",
    "\n"
   ]
  },
  {
   "cell_type": "markdown",
   "metadata": {},
   "source": [
    "YOUR RESPONSE HERE\n",
    "<br> [Note: To replace this text, double click on the placeholder text, and when you are finished, run the cell to save your work]"
   ]
  },
  {
   "cell_type": "markdown",
   "metadata": {},
   "source": [
    "<div class=\"alert alert-block alert-warning\">\n",
    "    <b>BONUS CHALLENGE (for folks who have taken Data-8 or beyond)</b>\n",
    "    <br />\n",
    "    Our data sets also have variables we didn’t use, including population split into race and sex subcategories, and infection rates by hospital or predicted vs actual infection rates. Try to alter the given code to compare two new variables. What patterns do you see?\n",
    "\n",
    "</div>\n",
    "\n"
   ]
  },
  {
   "cell_type": "markdown",
   "metadata": {},
   "source": [
    "WRITE YOUR OBSERVATIONS HERE\n",
    "<br> [Note: To replace this text, double click on the placeholder text, and when you are finished, run the cell to save your work]"
   ]
  }
 ],
 "metadata": {
  "kernelspec": {
   "display_name": "Python 3",
   "language": "python",
   "name": "python3"
  },
  "language_info": {
   "codemirror_mode": {
    "name": "ipython",
    "version": 3
   },
   "file_extension": ".py",
   "mimetype": "text/x-python",
   "name": "python",
   "nbconvert_exporter": "python",
   "pygments_lexer": "ipython3",
   "version": "3.6.9"
  }
 },
 "nbformat": 4,
 "nbformat_minor": 4
}
