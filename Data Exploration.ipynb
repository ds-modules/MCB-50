{
 "cells": [
  {
   "cell_type": "code",
   "execution_count": 1,
   "metadata": {},
   "outputs": [],
   "source": [
    "import numpy as np\n",
    "import pandas as pd\n",
    "import matplotlib.pyplot as plt\n",
    "import re\n",
    "\n",
    "from scipy.stats import linregress\n",
    "import seaborn as sns\n",
    "\n",
    "plt.style.use('fivethirtyeight')\n",
    "import ipywidgets as widgets\n",
    "%matplotlib inline\n",
    "from ipywidgets import interact, interactive, fixed, interact_manual"
   ]
  },
  {
   "cell_type": "markdown",
   "metadata": {},
   "source": [
    "### MRSA Data Cleaning (DONE)"
   ]
  },
  {
   "cell_type": "code",
   "execution_count": 2,
   "metadata": {},
   "outputs": [],
   "source": [
    "# mrsa_2013_raw = pd.read_csv('mrsa raw data/mrsa-in-hospitals-2013.csv')\n",
    "# mrsa_2014_raw = pd.read_csv('mrsa raw data/mrsa-in-hospitals-2014.csv')\n",
    "# mrsa_2015_raw = pd.read_csv('mrsa raw data/mrsa-in-hospitals-2015.csv')"
   ]
  },
  {
   "cell_type": "code",
   "execution_count": 3,
   "metadata": {},
   "outputs": [],
   "source": [
    "# # read in 2016-18 \n",
    "# import chardet\n",
    "# import pandas as pd\n",
    "\n",
    "# with open('mrsa raw data/mrsa-in-hospitals-2016.csv', 'rb') as f:\n",
    "#     result = chardet.detect(f.read())\n",
    "    \n",
    "# mrsa_2016_raw = pd.read_csv('mrsa raw data/mrsa-in-hospitals-2016.csv', encoding=result['encoding'])"
   ]
  },
  {
   "cell_type": "code",
   "execution_count": 4,
   "metadata": {},
   "outputs": [],
   "source": [
    "# # read in 2016-18 \n",
    "# import chardet\n",
    "# import pandas as pd\n",
    "\n",
    "# with open('mrsa raw data/mrsa-in-hospitals-2017.csv', 'rb') as f:\n",
    "#     result = chardet.detect(f.read())\n",
    "    \n",
    "# mrsa_2017_raw = pd.read_csv('mrsa raw data/mrsa-in-hospitals-2017.csv', encoding=result['encoding'])"
   ]
  },
  {
   "cell_type": "code",
   "execution_count": 5,
   "metadata": {},
   "outputs": [],
   "source": [
    "# # read in 2016-18 \n",
    "# import chardet\n",
    "# import pandas as pd\n",
    "\n",
    "# with open('mrsa raw data/mrsa-in-hospitals-2018.csv', 'rb') as f:\n",
    "#     result = chardet.detect(f.read())\n",
    "    \n",
    "# mrsa_2018_raw = pd.read_csv('mrsa raw data/mrsa-in-hospitals-2018.csv', encoding=result['encoding'])"
   ]
  },
  {
   "cell_type": "code",
   "execution_count": 6,
   "metadata": {},
   "outputs": [],
   "source": [
    "# mrsa_2013 = mrsa_2013_raw[['Year ','State','HAI','Facility_Name1',\n",
    "#                         'FACID1','County','Infection_Count','Patient_Days']].dropna()\n",
    "# mrsa_2013 = mrsa_2013.rename(columns={'Year ':'Year','Facility_Name1':'Facility1',\n",
    "#                                       'FACID1':'Facility1_ID','Patient_Days':'Num_patients'})\n",
    "# mrsa_2013 = mrsa_2013.drop(mrsa_2013.loc[mrsa_2013[\"County\"] == 'Kings-Fresno'].index)"
   ]
  },
  {
   "cell_type": "code",
   "execution_count": 7,
   "metadata": {},
   "outputs": [],
   "source": [
    "# mrsa_2014 = mrsa_2014_raw[['Year','State','HAI','Facility_Name1','Facility_ID1','County','Cases','Patient_Days',]].dropna()\n",
    "# mrsa_2014 = mrsa_2014.rename(columns={'Facility_Name1':'Facility1','Facility_ID1':'Facility1_ID','Cases':'Infection_Count',\n",
    "#                                        'Patient_Days':'Num_patients'})"
   ]
  },
  {
   "cell_type": "code",
   "execution_count": 8,
   "metadata": {},
   "outputs": [],
   "source": [
    "# mrsa_2015 = mrsa_2015_raw[['Year','State','HAI','Facility_Name1','Facility_ID1','County','Hospital_Onset_Cases',\n",
    "#                            'Patient_Days']].dropna()\n",
    "# mrsa_2015 = mrsa_2015.rename(columns={'Facility_Name1':'Facility1','Facility_ID1':'Facility1_ID',\n",
    "#                                       'Hospital_Onset_Cases':'Infection_Count','Patient_Days':'Num_patients',})"
   ]
  },
  {
   "cell_type": "code",
   "execution_count": 9,
   "metadata": {},
   "outputs": [],
   "source": [
    "# mrsa_2016 = mrsa_2016_raw[['Year','State','HAI','Facility_Name','Facility_ID','County','Infections_Reported',\n",
    "#                            'Patient_Days']].dropna()\n",
    "# mrsa_2016 = mrsa_2016.rename(columns={'Facility_Name':'Facility1','Facility_ID':'Facility1_ID',\n",
    "#                                       'Infections_Reported':'Infection_Count','Patient_Days':'Num_patients'})"
   ]
  },
  {
   "cell_type": "code",
   "execution_count": 10,
   "metadata": {},
   "outputs": [],
   "source": [
    "# mrsa_2017 = mrsa_2017_raw[['Year','State','HAI','Facility_Name','Facility_ID','County','Infections_Reported',\n",
    "#                            'Patient_Days']].dropna()\n",
    "# mrsa_2017 = mrsa_2017.rename(columns={'Facility_Name':'Facility1','Facility_ID':'Facility1_ID',\n",
    "#                                       'Infections_Reported':'Infection_Count','Patient_Days':'Num_patients'})"
   ]
  },
  {
   "cell_type": "code",
   "execution_count": 11,
   "metadata": {},
   "outputs": [],
   "source": [
    "# mrsa_2018 = mrsa_2018_raw[['Year','State','HAI','Facility_Name','Facility_ID','County','Infections_Reported',\n",
    "#                            'Patient_Days']].dropna()\n",
    "# mrsa_2018 = mrsa_2018.rename(columns={'Facility_Name':'Facility1','Facility_ID':'Facility1_ID',\n",
    "#                                       'Infections_Reported':'Infection_Count','Patient_Days':'Num_patients'})"
   ]
  },
  {
   "cell_type": "code",
   "execution_count": 12,
   "metadata": {},
   "outputs": [],
   "source": [
    "# mrsa_2013.to_csv('mrsa cleaned data/mrsa_2013.csv',index=False)\n",
    "# mrsa_2014.to_csv('mrsa cleaned data/mrsa_2014.csv',index=False)\n",
    "# mrsa_2015.to_csv('mrsa cleaned data/mrsa_2015.csv',index=False)\n",
    "# mrsa_2016.to_csv('mrsa cleaned data/mrsa_2016.csv',index=False)\n",
    "# mrsa_2017.to_csv('mrsa cleaned data/mrsa_2017.csv',index=False)\n",
    "# mrsa_2018.to_csv('mrsa cleaned data/mrsa_2018.csv',index=False)"
   ]
  },
  {
   "cell_type": "code",
   "execution_count": 13,
   "metadata": {},
   "outputs": [],
   "source": [
    "# mrsa_merged = pd.concat([mrsa_2013, mrsa_2014, mrsa_2015, mrsa_2016, mrsa_2017, mrsa_2018],ignore_index=True)\n",
    "\n",
    "# mrsa_merged.to_csv('mrsa cleaned data/mrsa_merged.csv',index=False)"
   ]
  },
  {
   "cell_type": "markdown",
   "metadata": {},
   "source": [
    "### EDA"
   ]
  },
  {
   "cell_type": "code",
   "execution_count": 14,
   "metadata": {},
   "outputs": [
    {
     "ename": "FileNotFoundError",
     "evalue": "File b'mrsa cleaned data/mrsa_merged.csv' does not exist",
     "output_type": "error",
     "traceback": [
      "\u001b[0;31m---------------------------------------------------------------------------\u001b[0m",
      "\u001b[0;31mFileNotFoundError\u001b[0m                         Traceback (most recent call last)",
      "\u001b[0;32m<ipython-input-14-95c4cdb6b167>\u001b[0m in \u001b[0;36m<module>\u001b[0;34m\u001b[0m\n\u001b[1;32m      8\u001b[0m \u001b[0mmrsa_2018\u001b[0m \u001b[0;34m=\u001b[0m \u001b[0mpd\u001b[0m\u001b[0;34m.\u001b[0m\u001b[0mread_csv\u001b[0m\u001b[0;34m(\u001b[0m\u001b[0;34m'mrsa cleaned data/mrsa_2018.csv'\u001b[0m\u001b[0;34m)\u001b[0m\u001b[0;34m\u001b[0m\u001b[0;34m\u001b[0m\u001b[0m\n\u001b[1;32m      9\u001b[0m \u001b[0;34m\u001b[0m\u001b[0m\n\u001b[0;32m---> 10\u001b[0;31m \u001b[0mmrsa_merged\u001b[0m \u001b[0;34m=\u001b[0m \u001b[0mpd\u001b[0m\u001b[0;34m.\u001b[0m\u001b[0mread_csv\u001b[0m\u001b[0;34m(\u001b[0m\u001b[0;34m'mrsa cleaned data/mrsa_merged.csv'\u001b[0m\u001b[0;34m)\u001b[0m\u001b[0;34m\u001b[0m\u001b[0;34m\u001b[0m\u001b[0m\n\u001b[0m",
      "\u001b[0;32m/srv/app/venv/lib/python3.6/site-packages/pandas/io/parsers.py\u001b[0m in \u001b[0;36mparser_f\u001b[0;34m(filepath_or_buffer, sep, delimiter, header, names, index_col, usecols, squeeze, prefix, mangle_dupe_cols, dtype, engine, converters, true_values, false_values, skipinitialspace, skiprows, nrows, na_values, keep_default_na, na_filter, verbose, skip_blank_lines, parse_dates, infer_datetime_format, keep_date_col, date_parser, dayfirst, iterator, chunksize, compression, thousands, decimal, lineterminator, quotechar, quoting, escapechar, comment, encoding, dialect, tupleize_cols, error_bad_lines, warn_bad_lines, skipfooter, doublequote, delim_whitespace, low_memory, memory_map, float_precision)\u001b[0m\n\u001b[1;32m    676\u001b[0m                     skip_blank_lines=skip_blank_lines)\n\u001b[1;32m    677\u001b[0m \u001b[0;34m\u001b[0m\u001b[0m\n\u001b[0;32m--> 678\u001b[0;31m         \u001b[0;32mreturn\u001b[0m \u001b[0m_read\u001b[0m\u001b[0;34m(\u001b[0m\u001b[0mfilepath_or_buffer\u001b[0m\u001b[0;34m,\u001b[0m \u001b[0mkwds\u001b[0m\u001b[0;34m)\u001b[0m\u001b[0;34m\u001b[0m\u001b[0;34m\u001b[0m\u001b[0m\n\u001b[0m\u001b[1;32m    679\u001b[0m \u001b[0;34m\u001b[0m\u001b[0m\n\u001b[1;32m    680\u001b[0m     \u001b[0mparser_f\u001b[0m\u001b[0;34m.\u001b[0m\u001b[0m__name__\u001b[0m \u001b[0;34m=\u001b[0m \u001b[0mname\u001b[0m\u001b[0;34m\u001b[0m\u001b[0;34m\u001b[0m\u001b[0m\n",
      "\u001b[0;32m/srv/app/venv/lib/python3.6/site-packages/pandas/io/parsers.py\u001b[0m in \u001b[0;36m_read\u001b[0;34m(filepath_or_buffer, kwds)\u001b[0m\n\u001b[1;32m    438\u001b[0m \u001b[0;34m\u001b[0m\u001b[0m\n\u001b[1;32m    439\u001b[0m     \u001b[0;31m# Create the parser.\u001b[0m\u001b[0;34m\u001b[0m\u001b[0;34m\u001b[0m\u001b[0;34m\u001b[0m\u001b[0m\n\u001b[0;32m--> 440\u001b[0;31m     \u001b[0mparser\u001b[0m \u001b[0;34m=\u001b[0m \u001b[0mTextFileReader\u001b[0m\u001b[0;34m(\u001b[0m\u001b[0mfilepath_or_buffer\u001b[0m\u001b[0;34m,\u001b[0m \u001b[0;34m**\u001b[0m\u001b[0mkwds\u001b[0m\u001b[0;34m)\u001b[0m\u001b[0;34m\u001b[0m\u001b[0;34m\u001b[0m\u001b[0m\n\u001b[0m\u001b[1;32m    441\u001b[0m \u001b[0;34m\u001b[0m\u001b[0m\n\u001b[1;32m    442\u001b[0m     \u001b[0;32mif\u001b[0m \u001b[0mchunksize\u001b[0m \u001b[0;32mor\u001b[0m \u001b[0miterator\u001b[0m\u001b[0;34m:\u001b[0m\u001b[0;34m\u001b[0m\u001b[0;34m\u001b[0m\u001b[0m\n",
      "\u001b[0;32m/srv/app/venv/lib/python3.6/site-packages/pandas/io/parsers.py\u001b[0m in \u001b[0;36m__init__\u001b[0;34m(self, f, engine, **kwds)\u001b[0m\n\u001b[1;32m    785\u001b[0m             \u001b[0mself\u001b[0m\u001b[0;34m.\u001b[0m\u001b[0moptions\u001b[0m\u001b[0;34m[\u001b[0m\u001b[0;34m'has_index_names'\u001b[0m\u001b[0;34m]\u001b[0m \u001b[0;34m=\u001b[0m \u001b[0mkwds\u001b[0m\u001b[0;34m[\u001b[0m\u001b[0;34m'has_index_names'\u001b[0m\u001b[0;34m]\u001b[0m\u001b[0;34m\u001b[0m\u001b[0;34m\u001b[0m\u001b[0m\n\u001b[1;32m    786\u001b[0m \u001b[0;34m\u001b[0m\u001b[0m\n\u001b[0;32m--> 787\u001b[0;31m         \u001b[0mself\u001b[0m\u001b[0;34m.\u001b[0m\u001b[0m_make_engine\u001b[0m\u001b[0;34m(\u001b[0m\u001b[0mself\u001b[0m\u001b[0;34m.\u001b[0m\u001b[0mengine\u001b[0m\u001b[0;34m)\u001b[0m\u001b[0;34m\u001b[0m\u001b[0;34m\u001b[0m\u001b[0m\n\u001b[0m\u001b[1;32m    788\u001b[0m \u001b[0;34m\u001b[0m\u001b[0m\n\u001b[1;32m    789\u001b[0m     \u001b[0;32mdef\u001b[0m \u001b[0mclose\u001b[0m\u001b[0;34m(\u001b[0m\u001b[0mself\u001b[0m\u001b[0;34m)\u001b[0m\u001b[0;34m:\u001b[0m\u001b[0;34m\u001b[0m\u001b[0;34m\u001b[0m\u001b[0m\n",
      "\u001b[0;32m/srv/app/venv/lib/python3.6/site-packages/pandas/io/parsers.py\u001b[0m in \u001b[0;36m_make_engine\u001b[0;34m(self, engine)\u001b[0m\n\u001b[1;32m   1012\u001b[0m     \u001b[0;32mdef\u001b[0m \u001b[0m_make_engine\u001b[0m\u001b[0;34m(\u001b[0m\u001b[0mself\u001b[0m\u001b[0;34m,\u001b[0m \u001b[0mengine\u001b[0m\u001b[0;34m=\u001b[0m\u001b[0;34m'c'\u001b[0m\u001b[0;34m)\u001b[0m\u001b[0;34m:\u001b[0m\u001b[0;34m\u001b[0m\u001b[0;34m\u001b[0m\u001b[0m\n\u001b[1;32m   1013\u001b[0m         \u001b[0;32mif\u001b[0m \u001b[0mengine\u001b[0m \u001b[0;34m==\u001b[0m \u001b[0;34m'c'\u001b[0m\u001b[0;34m:\u001b[0m\u001b[0;34m\u001b[0m\u001b[0;34m\u001b[0m\u001b[0m\n\u001b[0;32m-> 1014\u001b[0;31m             \u001b[0mself\u001b[0m\u001b[0;34m.\u001b[0m\u001b[0m_engine\u001b[0m \u001b[0;34m=\u001b[0m \u001b[0mCParserWrapper\u001b[0m\u001b[0;34m(\u001b[0m\u001b[0mself\u001b[0m\u001b[0;34m.\u001b[0m\u001b[0mf\u001b[0m\u001b[0;34m,\u001b[0m \u001b[0;34m**\u001b[0m\u001b[0mself\u001b[0m\u001b[0;34m.\u001b[0m\u001b[0moptions\u001b[0m\u001b[0;34m)\u001b[0m\u001b[0;34m\u001b[0m\u001b[0;34m\u001b[0m\u001b[0m\n\u001b[0m\u001b[1;32m   1015\u001b[0m         \u001b[0;32melse\u001b[0m\u001b[0;34m:\u001b[0m\u001b[0;34m\u001b[0m\u001b[0;34m\u001b[0m\u001b[0m\n\u001b[1;32m   1016\u001b[0m             \u001b[0;32mif\u001b[0m \u001b[0mengine\u001b[0m \u001b[0;34m==\u001b[0m \u001b[0;34m'python'\u001b[0m\u001b[0;34m:\u001b[0m\u001b[0;34m\u001b[0m\u001b[0;34m\u001b[0m\u001b[0m\n",
      "\u001b[0;32m/srv/app/venv/lib/python3.6/site-packages/pandas/io/parsers.py\u001b[0m in \u001b[0;36m__init__\u001b[0;34m(self, src, **kwds)\u001b[0m\n\u001b[1;32m   1706\u001b[0m         \u001b[0mkwds\u001b[0m\u001b[0;34m[\u001b[0m\u001b[0;34m'usecols'\u001b[0m\u001b[0;34m]\u001b[0m \u001b[0;34m=\u001b[0m \u001b[0mself\u001b[0m\u001b[0;34m.\u001b[0m\u001b[0musecols\u001b[0m\u001b[0;34m\u001b[0m\u001b[0;34m\u001b[0m\u001b[0m\n\u001b[1;32m   1707\u001b[0m \u001b[0;34m\u001b[0m\u001b[0m\n\u001b[0;32m-> 1708\u001b[0;31m         \u001b[0mself\u001b[0m\u001b[0;34m.\u001b[0m\u001b[0m_reader\u001b[0m \u001b[0;34m=\u001b[0m \u001b[0mparsers\u001b[0m\u001b[0;34m.\u001b[0m\u001b[0mTextReader\u001b[0m\u001b[0;34m(\u001b[0m\u001b[0msrc\u001b[0m\u001b[0;34m,\u001b[0m \u001b[0;34m**\u001b[0m\u001b[0mkwds\u001b[0m\u001b[0;34m)\u001b[0m\u001b[0;34m\u001b[0m\u001b[0;34m\u001b[0m\u001b[0m\n\u001b[0m\u001b[1;32m   1709\u001b[0m \u001b[0;34m\u001b[0m\u001b[0m\n\u001b[1;32m   1710\u001b[0m         \u001b[0mpassed_names\u001b[0m \u001b[0;34m=\u001b[0m \u001b[0mself\u001b[0m\u001b[0;34m.\u001b[0m\u001b[0mnames\u001b[0m \u001b[0;32mis\u001b[0m \u001b[0;32mNone\u001b[0m\u001b[0;34m\u001b[0m\u001b[0;34m\u001b[0m\u001b[0m\n",
      "\u001b[0;32mpandas/_libs/parsers.pyx\u001b[0m in \u001b[0;36mpandas._libs.parsers.TextReader.__cinit__\u001b[0;34m()\u001b[0m\n",
      "\u001b[0;32mpandas/_libs/parsers.pyx\u001b[0m in \u001b[0;36mpandas._libs.parsers.TextReader._setup_parser_source\u001b[0;34m()\u001b[0m\n",
      "\u001b[0;31mFileNotFoundError\u001b[0m: File b'mrsa cleaned data/mrsa_merged.csv' does not exist"
     ]
    }
   ],
   "source": [
    "#load in mrsa data\n",
    "\n",
    "mrsa_2013 = pd.read_csv('mrsa cleaned data/mrsa_2013.csv')\n",
    "mrsa_2014 = pd.read_csv('mrsa cleaned data/mrsa_2014.csv')\n",
    "mrsa_2015 = pd.read_csv('mrsa cleaned data/mrsa_2015.csv')\n",
    "mrsa_2016 = pd.read_csv('mrsa cleaned data/mrsa_2016.csv')\n",
    "mrsa_2017 = pd.read_csv('mrsa cleaned data/mrsa_2017.csv')\n",
    "mrsa_2018 = pd.read_csv('mrsa cleaned data/mrsa_2018.csv')\n",
    "\n",
    "mrsa_merged = pd.read_csv('mrsa cleaned data/mrsa_merged.csv')"
   ]
  },
  {
   "cell_type": "code",
   "execution_count": null,
   "metadata": {},
   "outputs": [],
   "source": [
    "mrsa_2013.head()"
   ]
  },
  {
   "cell_type": "code",
   "execution_count": null,
   "metadata": {
    "scrolled": false
   },
   "outputs": [],
   "source": [
    "### Histogram of Infection Counts ###\n",
    "\n",
    "plt.hist(mrsa_2013['Infection_Count'])"
   ]
  },
  {
   "cell_type": "code",
   "execution_count": null,
   "metadata": {},
   "outputs": [],
   "source": [
    "plt.hist(mrsa_2014['Infection_Count'])"
   ]
  },
  {
   "cell_type": "code",
   "execution_count": null,
   "metadata": {},
   "outputs": [],
   "source": [
    "plt.hist(mrsa_2015['Infection_Count'])"
   ]
  },
  {
   "cell_type": "code",
   "execution_count": null,
   "metadata": {},
   "outputs": [],
   "source": [
    "### Bar plots of County Count ### \n",
    "\n",
    "plt.figure(figsize=(20,6))\n",
    "\n",
    "plt.bar(mrsa_2013['County'].value_counts().index, mrsa_2013['County'].value_counts());\n",
    "\n",
    "plt.xticks(rotation=90);"
   ]
  },
  {
   "cell_type": "code",
   "execution_count": null,
   "metadata": {},
   "outputs": [],
   "source": [
    "plt.figure(figsize=(20,6))\n",
    "\n",
    "plt.bar(mrsa_2014['County'].value_counts().index, mrsa_2014['County'].value_counts());\n",
    "\n",
    "plt.xticks(rotation=90);"
   ]
  },
  {
   "cell_type": "code",
   "execution_count": null,
   "metadata": {},
   "outputs": [],
   "source": [
    "plt.figure(figsize=(20,6))\n",
    "\n",
    "plt.bar(mrsa_2015['County'].value_counts().index, mrsa_2015['County'].value_counts());\n",
    "\n",
    "plt.xticks(rotation=90);"
   ]
  },
  {
   "cell_type": "code",
   "execution_count": null,
   "metadata": {},
   "outputs": [],
   "source": [
    "# below we tried to plot infection rates in LA county as reported by each unique hospital per data set. \n",
    "# However, it seems that not all of the same hospitals were used to record infection count over each year \n",
    "\n",
    "# Confusion: What is a useful plot to graph for infection rate by year by county (Sec 5c)\n",
    "# "
   ]
  },
  {
   "cell_type": "code",
   "execution_count": null,
   "metadata": {},
   "outputs": [],
   "source": [
    "## Infection Rate by County by Year\n",
    "plt.figure(figsize=(20,8))\n",
    "la_2013 = mrsa_2013.loc[mrsa_2013['County'] == 'Los Angeles']\n",
    "la_2014 = mrsa_2014.loc[mrsa_2014['County'] == 'Los Angeles']\n",
    "la_2015 = mrsa_2015.loc[mrsa_2015['County'] == 'Los Angeles']\n",
    "\n",
    "hospitals = la_2013['Facility1']\n",
    "la_2013 = mrsa_2013.loc[mrsa_2013['County'] == 'Los Angeles']\n",
    "la_2014 = mrsa_2014.loc[mrsa_2014['County'] == 'Los Angeles']\n",
    "\n",
    "\n",
    "plt.scatter(hospitals, la_2013['Infection_Count'])\n",
    "plt.scatter(la_2014['Facility1'], la_2014['Infection_Count'])\n",
    "\n",
    "plt.xticks(rotation=90);"
   ]
  },
  {
   "cell_type": "code",
   "execution_count": null,
   "metadata": {},
   "outputs": [],
   "source": [
    "la_2013.columns"
   ]
  },
  {
   "cell_type": "code",
   "execution_count": null,
   "metadata": {},
   "outputs": [],
   "source": [
    "len(la_2014['Facility1'].unique()) == len(la_2013['Facility1'].unique())"
   ]
  },
  {
   "cell_type": "code",
   "execution_count": null,
   "metadata": {},
   "outputs": [],
   "source": [
    "a = ['a','b','c']\n",
    "b = ['b','c','d']\n",
    "\n",
    "ab = [set(a) & set(b)]\n",
    "ab"
   ]
  },
  {
   "cell_type": "code",
   "execution_count": null,
   "metadata": {},
   "outputs": [],
   "source": [
    "len(la_2013['Facility1']), len(la_2014['Facility1']), len(la_2015['Facility1']) # not the same hospitals"
   ]
  },
  {
   "cell_type": "code",
   "execution_count": null,
   "metadata": {},
   "outputs": [],
   "source": [
    "la_2015 = mrsa_2015.loc[mrsa_2015['County'] == 'Los Angeles']\n",
    "\n",
    "#[set(la_2014['Facility_Name1']) & set(la_2015['Facility_Name1'])]"
   ]
  },
  {
   "cell_type": "code",
   "execution_count": null,
   "metadata": {
    "scrolled": false
   },
   "outputs": [],
   "source": [
    "# infection rates by year\n",
    "avg_inf_year = [np.mean(mrsa_2013['Infection_Count']),\n",
    "                np.mean(mrsa_2014['Infection_Count']),\n",
    "                np.mean(mrsa_2015['Infection_Count']),\n",
    "                np.mean(mrsa_2016['Infection_Count']),\n",
    "                np.mean(mrsa_2017['Infection_Count']),\n",
    "                np.mean(mrsa_2018['Infection_Count'])]\n",
    "\n",
    "plt.plot(['2013','2014','2015','2016','2017','2018'],avg_inf_year) #one possible version of 5B "
   ]
  },
  {
   "cell_type": "code",
   "execution_count": null,
   "metadata": {
    "scrolled": false
   },
   "outputs": [],
   "source": [
    "plt.scatter(['2013','2014','2015','2016','2017','2018'],avg_inf_year) #another version of 5B "
   ]
  },
  {
   "cell_type": "code",
   "execution_count": null,
   "metadata": {},
   "outputs": [],
   "source": [
    "merge_1 = pd.merge(mrsa_2013, mrsa_2014, \n",
    "         how='outer',on='County').dropna()"
   ]
  },
  {
   "cell_type": "code",
   "execution_count": null,
   "metadata": {},
   "outputs": [],
   "source": [
    "mrsa_2015.head()"
   ]
  },
  {
   "cell_type": "code",
   "execution_count": null,
   "metadata": {
    "scrolled": false
   },
   "outputs": [],
   "source": [
    "# trying again by county - plot average infection rate per year for each county\n",
    "\n",
    "la_2013 = mrsa_2013.loc[mrsa_2013['County'] == 'Los Angeles']\n",
    "la_2014 = mrsa_2014.loc[mrsa_2014['County'] == 'Los Angeles']\n",
    "la_2015 = mrsa_2015.loc[mrsa_2015['County'] == 'Los Angeles']\n",
    "la_2016 = mrsa_2016.loc[mrsa_2016['County'] == 'Los Angeles']\n",
    "la_2017 = mrsa_2017.loc[mrsa_2017['County'] == 'Los Angeles']\n",
    "la_2018 = mrsa_2018.loc[mrsa_2018['County'] == 'Los Angeles']\n",
    "\n",
    "\n",
    "\n",
    "avg_inf_year_la = [np.mean(la_2013['Infection_Count']),\n",
    "                   np.mean(la_2014['Infection_Count']), \n",
    "                   np.mean(la_2015['Infection_Count']), \n",
    "                   np.mean(la_2016['Infection_Count']),\n",
    "                   np.mean(la_2017['Infection_Count']), \n",
    "                   np.mean(la_2018['Infection_Count'])]\n",
    "\n",
    "plt.plot(['2013','2014','2015','2016','2017','2018'],avg_inf_year_la)"
   ]
  },
  {
   "cell_type": "code",
   "execution_count": null,
   "metadata": {},
   "outputs": [],
   "source": [
    "mrsa_merged.loc[mrsa_merged['County'] == 'Kings-Fresno']"
   ]
  },
  {
   "cell_type": "code",
   "execution_count": null,
   "metadata": {},
   "outputs": [],
   "source": [
    "def line_county(County):\n",
    "    plt.figure(figsize=(10,7));\n",
    "    x = list(mrsa_merged.loc[mrsa_merged['County']== County].groupby(['Year']).agg(sum).index)\n",
    "    y = list(mrsa_merged.loc[mrsa_merged['County']== County].groupby(['Year']).agg(sum)['Infection_Count'])\n",
    "    return sns.scatterplot(x,y)\n",
    "\n",
    "wid_1 = widgets.Dropdown(\n",
    "        options = mrsa_merged['County'].unique().tolist(),\n",
    "        description = 'County',\n",
    "        disabled = False\n",
    ")\n",
    "\n",
    "interact(line_county, County = wid_1)"
   ]
  },
  {
   "cell_type": "code",
   "execution_count": null,
   "metadata": {},
   "outputs": [],
   "source": [
    "# trying again by county - plot average infection rate per year for each county\n",
    "\n",
    "orange_2013 = mrsa_2013.loc[mrsa_2013['County'] == 'Orange']\n",
    "orange_2014 = mrsa_2014.loc[mrsa_2014['County'] == 'Orange']\n",
    "orange_2015 = mrsa_2015.loc[mrsa_2015['County'] == 'Orange']\n",
    "orange_2016 = mrsa_2016.loc[mrsa_2016['County'] == 'Orange']\n",
    "orange_2017 = mrsa_2017.loc[mrsa_2017['County'] == 'Orange']\n",
    "orange_2018 = mrsa_2018.loc[mrsa_2018['County'] == 'Orange']\n",
    "\n",
    "\n",
    "\n",
    "avg_inf_year_orange = [np.mean(orange_2013['Infection_Count']),\n",
    "                   np.mean(orange_2014['Infection_Count']), \n",
    "                   np.mean(orange_2015['Infection_Count']), \n",
    "                   np.mean(orange_2016['Infection_Count']),\n",
    "                   np.mean(orange_2017['Infection_Count']), \n",
    "                   np.mean(orange_2018['Infection_Count'])]\n",
    "\n",
    "plt.plot(['2013','2014','2015','2016','2017','2018'],avg_inf_year_orange)"
   ]
  },
  {
   "cell_type": "code",
   "execution_count": null,
   "metadata": {},
   "outputs": [],
   "source": [
    "avg_inf_year_orange"
   ]
  },
  {
   "cell_type": "code",
   "execution_count": null,
   "metadata": {},
   "outputs": [],
   "source": [
    "la_2015.head()"
   ]
  },
  {
   "cell_type": "markdown",
   "metadata": {},
   "source": [
    "### Population Data Cleaning (DONE)"
   ]
  },
  {
   "cell_type": "code",
   "execution_count": 19,
   "metadata": {},
   "outputs": [],
   "source": [
    "# # population versus infection\n",
    "\n",
    "#census_raw = pd.read_csv('cc-est2018-alldata-06.csv')\n",
    "#census = census_raw[['CTYNAME','YEAR','TOT_POP']]\n",
    "\n",
    "# # @Elias: is it ok to only keep these 3 columns? other columns won't be used necessarily\n"
   ]
  },
  {
   "cell_type": "code",
   "execution_count": 20,
   "metadata": {},
   "outputs": [],
   "source": [
    "# # keep only relevant years\n",
    "# census = census[census['YEAR'].isin([6,7,8,9,10,11])]\n",
    "\n",
    "# # rename year numbers to actual years\n",
    "# year_dict = {6:2013,7:2014,8:2015,9:2016,10:2017,11:2018}\n",
    "# census['YEAR'] = census['YEAR'].replace(year_dict)\n",
    "# census = census.rename(columns={\"CTYNAME\":\"County\", \"YEAR\":\"Year\",\"TOT_POP\":\"Total_Population\"})\n",
    "\n",
    "# census.to_csv('census_cleaned.csv',index=False)"
   ]
  },
  {
   "cell_type": "markdown",
   "metadata": {},
   "source": [
    "# Census Bonus"
   ]
  },
  {
   "cell_type": "code",
   "execution_count": 31,
   "metadata": {},
   "outputs": [],
   "source": [
    "#Code to create/read in Census_bonus\n",
    "\n",
    "census_raw.head()\n",
    "census_bonus = census_raw[['CTYNAME', 'YEAR', 'TOT_POP', 'WA_MALE', 'WA_FEMALE',\n",
    "                          'BA_MALE', 'BA_FEMALE','IA_MALE', 'IA_FEMALE', 'AA_MALE',\n",
    "                          'AA_FEMALE','NA_MALE','NA_FEMALE','TOM_MALE', 'TOM_FEMALE',\n",
    "                          'NH_MALE','NH_FEMALE','H_MALE','H_FEMALE']]\n",
    "census_bonus = census_bonus[census_bonus['YEAR'].isin([6,7,8,9,10,11])]\n",
    "year_dictionary = {6:2013,7:2014,8:2015,9:2016,10:2017,11:2018}\n",
    "census_bonus['YEAR'] = census_bonus['YEAR'].replace(year_dictionary)\n",
    "census_bonus = census_bonus.rename(columns={\"CTYNAME\":\"County\", \"YEAR\":\"Year\",\"TOT_POP\":\"Total_Population\",\n",
    "                                           \"WA_MALE\":\"White Male\", \"WA_FEMALE\":\"White Female\",\n",
    "                                           \"BA_MALE\":\"Black Male\", \"BA_FEMALE\":\"Black Female\",\n",
    "                                           \"IA_MALE\":\"American Indian Male\", \"IA_FEMALE\":\"American Indian Female\",\n",
    "                                           \"AA_MALE\":\"Asian Male\",\"AA_FEMALE\":\"Asian Female\",\"NA_MALE\":\"Native Hawaiian Male\",\n",
    "                                           \"NA_FEMALE\":\"Native Hawaiian Female\",\"TOM_MALE\":\"2+ Race Male\",\"TOM_FEMALE\":\"2+ Race Female\",\n",
    "                                           \"NH_MALE\":\"Not Hispanic Male\",\"NH_FEMALE\":\"Not Hispanic Female\",\n",
    "                                           \"H_MALE\":\"Hispanic Male\",\"H_FEMALE\":\"Hispanic Female\"})\n",
    "census_bonus.to_csv('census_bonus.csv',index=False)\n"
   ]
  },
  {
   "cell_type": "markdown",
   "metadata": {},
   "source": [
    "# Pop Data EDA"
   ]
  },
  {
   "cell_type": "code",
   "execution_count": 156,
   "metadata": {},
   "outputs": [
    {
     "data": {
      "text/html": [
       "<div>\n",
       "<style scoped>\n",
       "    .dataframe tbody tr th:only-of-type {\n",
       "        vertical-align: middle;\n",
       "    }\n",
       "\n",
       "    .dataframe tbody tr th {\n",
       "        vertical-align: top;\n",
       "    }\n",
       "\n",
       "    .dataframe thead th {\n",
       "        text-align: right;\n",
       "    }\n",
       "</style>\n",
       "<table border=\"1\" class=\"dataframe\">\n",
       "  <thead>\n",
       "    <tr style=\"text-align: right;\">\n",
       "      <th></th>\n",
       "      <th>County</th>\n",
       "      <th>Year</th>\n",
       "      <th>Total_Population</th>\n",
       "    </tr>\n",
       "  </thead>\n",
       "  <tbody>\n",
       "    <tr>\n",
       "      <th>0</th>\n",
       "      <td>Alameda County</td>\n",
       "      <td>2013</td>\n",
       "      <td>1580247</td>\n",
       "    </tr>\n",
       "    <tr>\n",
       "      <th>1</th>\n",
       "      <td>Alameda County</td>\n",
       "      <td>2013</td>\n",
       "      <td>97356</td>\n",
       "    </tr>\n",
       "    <tr>\n",
       "      <th>2</th>\n",
       "      <td>Alameda County</td>\n",
       "      <td>2013</td>\n",
       "      <td>98218</td>\n",
       "    </tr>\n",
       "    <tr>\n",
       "      <th>3</th>\n",
       "      <td>Alameda County</td>\n",
       "      <td>2013</td>\n",
       "      <td>92259</td>\n",
       "    </tr>\n",
       "    <tr>\n",
       "      <th>4</th>\n",
       "      <td>Alameda County</td>\n",
       "      <td>2013</td>\n",
       "      <td>95483</td>\n",
       "    </tr>\n",
       "  </tbody>\n",
       "</table>\n",
       "</div>"
      ],
      "text/plain": [
       "           County  Year  Total_Population\n",
       "0  Alameda County  2013           1580247\n",
       "1  Alameda County  2013             97356\n",
       "2  Alameda County  2013             98218\n",
       "3  Alameda County  2013             92259\n",
       "4  Alameda County  2013             95483"
      ]
     },
     "execution_count": 156,
     "metadata": {},
     "output_type": "execute_result"
    }
   ],
   "source": [
    "census = pd.read_csv('census_cleaned.csv')#.drop(['Unnamed: 0'],axis=1)\n",
    "census.head()"
   ]
  },
  {
   "cell_type": "code",
   "execution_count": 157,
   "metadata": {},
   "outputs": [
    {
     "data": {
      "text/html": [
       "<div>\n",
       "<style scoped>\n",
       "    .dataframe tbody tr th:only-of-type {\n",
       "        vertical-align: middle;\n",
       "    }\n",
       "\n",
       "    .dataframe tbody tr th {\n",
       "        vertical-align: top;\n",
       "    }\n",
       "\n",
       "    .dataframe thead th {\n",
       "        text-align: right;\n",
       "    }\n",
       "</style>\n",
       "<table border=\"1\" class=\"dataframe\">\n",
       "  <thead>\n",
       "    <tr style=\"text-align: right;\">\n",
       "      <th></th>\n",
       "      <th></th>\n",
       "      <th>Total_Population</th>\n",
       "    </tr>\n",
       "    <tr>\n",
       "      <th>Year</th>\n",
       "      <th>County</th>\n",
       "      <th></th>\n",
       "    </tr>\n",
       "  </thead>\n",
       "  <tbody>\n",
       "    <tr>\n",
       "      <th rowspan=\"5\" valign=\"top\">2013</th>\n",
       "      <th>Alameda County</th>\n",
       "      <td>3160494</td>\n",
       "    </tr>\n",
       "    <tr>\n",
       "      <th>Alpine County</th>\n",
       "      <td>2254</td>\n",
       "    </tr>\n",
       "    <tr>\n",
       "      <th>Amador County</th>\n",
       "      <td>73250</td>\n",
       "    </tr>\n",
       "    <tr>\n",
       "      <th>Butte County</th>\n",
       "      <td>443328</td>\n",
       "    </tr>\n",
       "    <tr>\n",
       "      <th>Calaveras County</th>\n",
       "      <td>89320</td>\n",
       "    </tr>\n",
       "  </tbody>\n",
       "</table>\n",
       "</div>"
      ],
      "text/plain": [
       "                       Total_Population\n",
       "Year County                            \n",
       "2013 Alameda County             3160494\n",
       "     Alpine County                 2254\n",
       "     Amador County                73250\n",
       "     Butte County                443328\n",
       "     Calaveras County             89320"
      ]
     },
     "execution_count": 157,
     "metadata": {},
     "output_type": "execute_result"
    }
   ],
   "source": [
    "pop_by_county = census.groupby(['Year','County']).agg(sum)\n",
    "pop_by_county.head()"
   ]
  },
  {
   "cell_type": "code",
   "execution_count": 158,
   "metadata": {},
   "outputs": [
    {
     "data": {
      "text/html": [
       "<div>\n",
       "<style scoped>\n",
       "    .dataframe tbody tr th:only-of-type {\n",
       "        vertical-align: middle;\n",
       "    }\n",
       "\n",
       "    .dataframe tbody tr th {\n",
       "        vertical-align: top;\n",
       "    }\n",
       "\n",
       "    .dataframe thead th {\n",
       "        text-align: right;\n",
       "    }\n",
       "</style>\n",
       "<table border=\"1\" class=\"dataframe\">\n",
       "  <thead>\n",
       "    <tr style=\"text-align: right;\">\n",
       "      <th></th>\n",
       "      <th>Year</th>\n",
       "      <th>County</th>\n",
       "      <th>Total_Population</th>\n",
       "    </tr>\n",
       "  </thead>\n",
       "  <tbody>\n",
       "    <tr>\n",
       "      <th>0</th>\n",
       "      <td>2013</td>\n",
       "      <td>Alameda</td>\n",
       "      <td>3160494</td>\n",
       "    </tr>\n",
       "    <tr>\n",
       "      <th>1</th>\n",
       "      <td>2013</td>\n",
       "      <td>Alpine</td>\n",
       "      <td>2254</td>\n",
       "    </tr>\n",
       "    <tr>\n",
       "      <th>2</th>\n",
       "      <td>2013</td>\n",
       "      <td>Amador</td>\n",
       "      <td>73250</td>\n",
       "    </tr>\n",
       "    <tr>\n",
       "      <th>3</th>\n",
       "      <td>2013</td>\n",
       "      <td>Butte</td>\n",
       "      <td>443328</td>\n",
       "    </tr>\n",
       "    <tr>\n",
       "      <th>4</th>\n",
       "      <td>2013</td>\n",
       "      <td>Calaveras</td>\n",
       "      <td>89320</td>\n",
       "    </tr>\n",
       "  </tbody>\n",
       "</table>\n",
       "</div>"
      ],
      "text/plain": [
       "   Year     County  Total_Population\n",
       "0  2013    Alameda           3160494\n",
       "1  2013     Alpine              2254\n",
       "2  2013     Amador             73250\n",
       "3  2013      Butte            443328\n",
       "4  2013  Calaveras             89320"
      ]
     },
     "execution_count": 158,
     "metadata": {},
     "output_type": "execute_result"
    }
   ],
   "source": [
    "pop_by_county = pop_by_county.reset_index()\n",
    "pop_by_county['County'] = pop_by_county['County'].apply(lambda county_name:re.sub(r' County',\"\",county_name))\n",
    "pop_by_county.head()"
   ]
  },
  {
   "cell_type": "code",
   "execution_count": 159,
   "metadata": {},
   "outputs": [],
   "source": [
    "infec_2013 = list(mrsa_2013.groupby(['County']).agg(sum)['Infection_Count'])\n",
    "infec_2014 = list(mrsa_2014.groupby(['County']).agg(sum)['Infection_Count'])\n",
    "infec_2015 = list(mrsa_2015.groupby(['County']).agg(sum)['Infection_Count'])\n",
    "infec_2016 = list(mrsa_2016.groupby(['County']).agg(sum)['Infection_Count'])\n",
    "infec_2017 = list(mrsa_2017.groupby(['County']).agg(sum)['Infection_Count'])\n",
    "infec_2018 = list(mrsa_2018.groupby(['County']).agg(sum)['Infection_Count'])"
   ]
  },
  {
   "cell_type": "code",
   "execution_count": 160,
   "metadata": {},
   "outputs": [],
   "source": [
    "#infec_by_county_2013"
   ]
  },
  {
   "cell_type": "code",
   "execution_count": 161,
   "metadata": {},
   "outputs": [],
   "source": [
    "## population versus infection rate for each county\n",
    "    ##  not all years have the same number of counties, so we cannot put all infection counts into one dataframe\n",
    "\n",
    "infec_by_county_2013 = mrsa_2013.groupby(['County']).agg(sum)[['Infection_Count']].reset_index()\n",
    "infec_by_county_2014 = mrsa_2014.groupby(['County']).agg(sum)[['Infection_Count']].reset_index()\n",
    "infec_by_county_2015 = mrsa_2015.groupby(['County']).agg(sum)[['Infection_Count']].reset_index()\n",
    "infec_by_county_2016 = mrsa_2016.groupby(['County']).agg(sum)[['Infection_Count']].reset_index()\n",
    "infec_by_county_2017 = mrsa_2017.groupby(['County']).agg(sum)[['Infection_Count']].reset_index()\n",
    "infec_by_county_2018 = mrsa_2018.groupby(['County']).agg(sum)[['Infection_Count']].reset_index()"
   ]
  },
  {
   "cell_type": "code",
   "execution_count": 162,
   "metadata": {},
   "outputs": [],
   "source": [
    "merge_2013 = pd.merge(infec_by_county_2013, pop_by_county.loc[pop_by_county['Year'] == 2013], \n",
    "         how='left',on='County').dropna()\n",
    "merge_2014 = pd.merge(infec_by_county_2014, pop_by_county.loc[pop_by_county['Year'] == 2014], \n",
    "         how='left',on='County').dropna()\n",
    "merge_2015 = pd.merge(infec_by_county_2015, pop_by_county.loc[pop_by_county['Year'] == 2015], \n",
    "         how='left',on='County').dropna()\n",
    "merge_2016 = pd.merge(infec_by_county_2016, pop_by_county.loc[pop_by_county['Year'] == 2016], \n",
    "         how='left',on='County').dropna()\n",
    "merge_2017 = pd.merge(infec_by_county_2017, pop_by_county.loc[pop_by_county['Year'] == 2017], \n",
    "         how='left',on='County').dropna()\n",
    "merge_2018 = pd.merge(infec_by_county_2018, pop_by_county.loc[pop_by_county['Year'] == 2018], \n",
    "         how='left',on='County').dropna()"
   ]
  },
  {
   "cell_type": "raw",
   "metadata": {},
   "source": []
  },
  {
   "cell_type": "code",
   "execution_count": 163,
   "metadata": {},
   "outputs": [
    {
     "data": {
      "text/plain": [
       "<matplotlib.collections.PathCollection at 0x7f21a97e1390>"
      ]
     },
     "execution_count": 163,
     "metadata": {},
     "output_type": "execute_result"
    },
    {
     "data": {
      "image/png": "[encoded data removed]",
      "text/plain": [
       "<Figure size 432x288 with 1 Axes>"
      ]
     },
     "metadata": {
      "needs_background": "light"
     },
     "output_type": "display_data"
    }
   ],
   "source": [
    "## line plot of total pop vs infection count in la county -- pop v inf in all years\n",
    "## idea is to produce a similar plot with regression line for every county over all years \n",
    "    # (not all years have the same counties)\n",
    "    \n",
    "\n",
    "la_inf = list([merge_2013.loc[merge_2013['County']=='Los Angeles']['Infection_Count'].values[0], \n",
    "              merge_2014.loc[merge_2014['County']=='Los Angeles']['Infection_Count'].values[0],\n",
    "              merge_2015.loc[merge_2015['County']=='Los Angeles']['Infection_Count'].values[0], \n",
    "              merge_2016.loc[merge_2016['County']=='Los Angeles']['Infection_Count'].values[0],\n",
    "              merge_2017.loc[merge_2017['County']=='Los Angeles']['Infection_Count'].values[0],\n",
    "              merge_2018.loc[merge_2018['County']=='Los Angeles']['Infection_Count'].values[0]])\n",
    "la_pop = list([merge_2013.loc[merge_2013['County']=='Los Angeles']['Total_Population'].values[0], \n",
    "              merge_2014.loc[merge_2014['County']=='Los Angeles']['Total_Population'].values[0],\n",
    "              merge_2015.loc[merge_2015['County']=='Los Angeles']['Total_Population'].values[0], \n",
    "              merge_2016.loc[merge_2016['County']=='Los Angeles']['Total_Population'].values[0],\n",
    "              merge_2017.loc[merge_2017['County']=='Los Angeles']['Total_Population'].values[0],\n",
    "              merge_2018.loc[merge_2018['County']=='Los Angeles']['Total_Population'].values[0]])\n",
    "plt.scatter(la_pop,la_inf)"
   ]
  },
  {
   "cell_type": "markdown",
   "metadata": {},
   "source": [
    "### Working with mrsa merged"
   ]
  },
  {
   "cell_type": "code",
   "execution_count": 164,
   "metadata": {},
   "outputs": [
    {
     "data": {
      "text/html": [
       "<div>\n",
       "<style scoped>\n",
       "    .dataframe tbody tr th:only-of-type {\n",
       "        vertical-align: middle;\n",
       "    }\n",
       "\n",
       "    .dataframe tbody tr th {\n",
       "        vertical-align: top;\n",
       "    }\n",
       "\n",
       "    .dataframe thead th {\n",
       "        text-align: right;\n",
       "    }\n",
       "</style>\n",
       "<table border=\"1\" class=\"dataframe\">\n",
       "  <thead>\n",
       "    <tr style=\"text-align: right;\">\n",
       "      <th></th>\n",
       "      <th>Year</th>\n",
       "      <th>State</th>\n",
       "      <th>HAI</th>\n",
       "      <th>Facility1</th>\n",
       "      <th>Facility1_ID</th>\n",
       "      <th>County</th>\n",
       "      <th>Infection_Count</th>\n",
       "      <th>Num_patients</th>\n",
       "    </tr>\n",
       "  </thead>\n",
       "  <tbody>\n",
       "    <tr>\n",
       "      <th>0</th>\n",
       "      <td>2013</td>\n",
       "      <td>California</td>\n",
       "      <td>Methicillin-Resistant Staphylococcus aureus Bl...</td>\n",
       "      <td>Adventist Medical Center, Reedley</td>\n",
       "      <td>40000124.0</td>\n",
       "      <td>Fresno</td>\n",
       "      <td>0.0</td>\n",
       "      <td>5970.0</td>\n",
       "    </tr>\n",
       "    <tr>\n",
       "      <th>1</th>\n",
       "      <td>2013</td>\n",
       "      <td>California</td>\n",
       "      <td>Methicillin-Resistant Staphylococcus aureus Bl...</td>\n",
       "      <td>AHMC Anaheim Regional Medical Center, Anaheim</td>\n",
       "      <td>60000002.0</td>\n",
       "      <td>Orange</td>\n",
       "      <td>3.0</td>\n",
       "      <td>51929.0</td>\n",
       "    </tr>\n",
       "  </tbody>\n",
       "</table>\n",
       "</div>"
      ],
      "text/plain": [
       "   Year       State                                                HAI  \\\n",
       "0  2013  California  Methicillin-Resistant Staphylococcus aureus Bl...   \n",
       "1  2013  California  Methicillin-Resistant Staphylococcus aureus Bl...   \n",
       "\n",
       "                                       Facility1  Facility1_ID  County  \\\n",
       "0              Adventist Medical Center, Reedley    40000124.0  Fresno   \n",
       "1  AHMC Anaheim Regional Medical Center, Anaheim    60000002.0  Orange   \n",
       "\n",
       "   Infection_Count  Num_patients  \n",
       "0              0.0        5970.0  \n",
       "1              3.0       51929.0  "
      ]
     },
     "execution_count": 164,
     "metadata": {},
     "output_type": "execute_result"
    }
   ],
   "source": [
    "mrsa_merged = pd.read_csv('mrsa cleaned data/mrsa_merged.csv')\n",
    "mrsa_merged.head(2)"
   ]
  },
  {
   "cell_type": "code",
   "execution_count": 188,
   "metadata": {},
   "outputs": [
    {
     "data": {
      "text/html": [
       "<div>\n",
       "<style scoped>\n",
       "    .dataframe tbody tr th:only-of-type {\n",
       "        vertical-align: middle;\n",
       "    }\n",
       "\n",
       "    .dataframe tbody tr th {\n",
       "        vertical-align: top;\n",
       "    }\n",
       "\n",
       "    .dataframe thead th {\n",
       "        text-align: right;\n",
       "    }\n",
       "</style>\n",
       "<table border=\"1\" class=\"dataframe\">\n",
       "  <thead>\n",
       "    <tr style=\"text-align: right;\">\n",
       "      <th></th>\n",
       "      <th>Year</th>\n",
       "      <th>County</th>\n",
       "      <th>Total_Population</th>\n",
       "    </tr>\n",
       "  </thead>\n",
       "  <tbody>\n",
       "    <tr>\n",
       "      <th>0</th>\n",
       "      <td>2013</td>\n",
       "      <td>Alameda</td>\n",
       "      <td>3160494</td>\n",
       "    </tr>\n",
       "    <tr>\n",
       "      <th>1</th>\n",
       "      <td>2013</td>\n",
       "      <td>Alpine</td>\n",
       "      <td>2254</td>\n",
       "    </tr>\n",
       "    <tr>\n",
       "      <th>2</th>\n",
       "      <td>2013</td>\n",
       "      <td>Amador</td>\n",
       "      <td>73250</td>\n",
       "    </tr>\n",
       "    <tr>\n",
       "      <th>3</th>\n",
       "      <td>2013</td>\n",
       "      <td>Butte</td>\n",
       "      <td>443328</td>\n",
       "    </tr>\n",
       "    <tr>\n",
       "      <th>4</th>\n",
       "      <td>2013</td>\n",
       "      <td>Calaveras</td>\n",
       "      <td>89320</td>\n",
       "    </tr>\n",
       "  </tbody>\n",
       "</table>\n",
       "</div>"
      ],
      "text/plain": [
       "   Year     County  Total_Population\n",
       "0  2013    Alameda           3160494\n",
       "1  2013     Alpine              2254\n",
       "2  2013     Amador             73250\n",
       "3  2013      Butte            443328\n",
       "4  2013  Calaveras             89320"
      ]
     },
     "execution_count": 188,
     "metadata": {},
     "output_type": "execute_result"
    }
   ],
   "source": [
    "pop_by_county.head()"
   ]
  },
  {
   "cell_type": "code",
   "execution_count": 199,
   "metadata": {},
   "outputs": [
    {
     "data": {
      "text/html": [
       "<div>\n",
       "<style scoped>\n",
       "    .dataframe tbody tr th:only-of-type {\n",
       "        vertical-align: middle;\n",
       "    }\n",
       "\n",
       "    .dataframe tbody tr th {\n",
       "        vertical-align: top;\n",
       "    }\n",
       "\n",
       "    .dataframe thead th {\n",
       "        text-align: right;\n",
       "    }\n",
       "</style>\n",
       "<table border=\"1\" class=\"dataframe\">\n",
       "  <thead>\n",
       "    <tr style=\"text-align: right;\">\n",
       "      <th></th>\n",
       "      <th>Year</th>\n",
       "      <th>County</th>\n",
       "      <th>Infection_Count</th>\n",
       "    </tr>\n",
       "  </thead>\n",
       "  <tbody>\n",
       "    <tr>\n",
       "      <th>0</th>\n",
       "      <td>2013</td>\n",
       "      <td>Alameda</td>\n",
       "      <td>18.0</td>\n",
       "    </tr>\n",
       "    <tr>\n",
       "      <th>1</th>\n",
       "      <td>2013</td>\n",
       "      <td>Alameda-Contra Costa</td>\n",
       "      <td>2.0</td>\n",
       "    </tr>\n",
       "    <tr>\n",
       "      <th>2</th>\n",
       "      <td>2013</td>\n",
       "      <td>Amador</td>\n",
       "      <td>0.0</td>\n",
       "    </tr>\n",
       "    <tr>\n",
       "      <th>3</th>\n",
       "      <td>2013</td>\n",
       "      <td>Butte</td>\n",
       "      <td>5.0</td>\n",
       "    </tr>\n",
       "    <tr>\n",
       "      <th>4</th>\n",
       "      <td>2013</td>\n",
       "      <td>Calaveras</td>\n",
       "      <td>0.0</td>\n",
       "    </tr>\n",
       "  </tbody>\n",
       "</table>\n",
       "</div>"
      ],
      "text/plain": [
       "   Year                County  Infection_Count\n",
       "0  2013               Alameda             18.0\n",
       "1  2013  Alameda-Contra Costa              2.0\n",
       "2  2013                Amador              0.0\n",
       "3  2013                 Butte              5.0\n",
       "4  2013             Calaveras              0.0"
      ]
     },
     "execution_count": 199,
     "metadata": {},
     "output_type": "execute_result"
    }
   ],
   "source": [
    "infec_by_county = mrsa_merged.groupby(['Year','County']).agg(sum).reset_index()[['Year','County','Infection_Count']]\n",
    "infec_by_county.head()"
   ]
  },
  {
   "cell_type": "code",
   "execution_count": 214,
   "metadata": {},
   "outputs": [],
   "source": [
    "# infec_pop_merge = pd.merge(infec_by_county, pop_by_county, how='inner',on=['Year','County']).dropna()\n",
    "# infec_pop_merge.to_csv('infec_pop_merge.csv',index=False)"
   ]
  },
  {
   "cell_type": "code",
   "execution_count": 215,
   "metadata": {},
   "outputs": [],
   "source": [
    "infec_pop_merge = pd.read_csv('infec_pop_merge.csv')"
   ]
  },
  {
   "cell_type": "code",
   "execution_count": 216,
   "metadata": {},
   "outputs": [
    {
     "data": {
      "text/html": [
       "<div>\n",
       "<style scoped>\n",
       "    .dataframe tbody tr th:only-of-type {\n",
       "        vertical-align: middle;\n",
       "    }\n",
       "\n",
       "    .dataframe tbody tr th {\n",
       "        vertical-align: top;\n",
       "    }\n",
       "\n",
       "    .dataframe thead th {\n",
       "        text-align: right;\n",
       "    }\n",
       "</style>\n",
       "<table border=\"1\" class=\"dataframe\">\n",
       "  <thead>\n",
       "    <tr style=\"text-align: right;\">\n",
       "      <th></th>\n",
       "      <th>Year</th>\n",
       "      <th>County</th>\n",
       "      <th>Infection_Count</th>\n",
       "      <th>Total_Population</th>\n",
       "    </tr>\n",
       "  </thead>\n",
       "  <tbody>\n",
       "    <tr>\n",
       "      <th>28</th>\n",
       "      <td>2013</td>\n",
       "      <td>Orange</td>\n",
       "      <td>43.0</td>\n",
       "      <td>6216018</td>\n",
       "    </tr>\n",
       "    <tr>\n",
       "      <th>83</th>\n",
       "      <td>2014</td>\n",
       "      <td>Orange</td>\n",
       "      <td>39.0</td>\n",
       "      <td>6260644</td>\n",
       "    </tr>\n",
       "    <tr>\n",
       "      <th>138</th>\n",
       "      <td>2015</td>\n",
       "      <td>Orange</td>\n",
       "      <td>42.0</td>\n",
       "      <td>6307924</td>\n",
       "    </tr>\n",
       "    <tr>\n",
       "      <th>193</th>\n",
       "      <td>2016</td>\n",
       "      <td>Orange</td>\n",
       "      <td>51.0</td>\n",
       "      <td>6341414</td>\n",
       "    </tr>\n",
       "    <tr>\n",
       "      <th>248</th>\n",
       "      <td>2017</td>\n",
       "      <td>Orange</td>\n",
       "      <td>75.0</td>\n",
       "      <td>6359900</td>\n",
       "    </tr>\n",
       "    <tr>\n",
       "      <th>303</th>\n",
       "      <td>2018</td>\n",
       "      <td>Orange</td>\n",
       "      <td>58.0</td>\n",
       "      <td>6371936</td>\n",
       "    </tr>\n",
       "  </tbody>\n",
       "</table>\n",
       "</div>"
      ],
      "text/plain": [
       "     Year  County  Infection_Count  Total_Population\n",
       "28   2013  Orange             43.0           6216018\n",
       "83   2014  Orange             39.0           6260644\n",
       "138  2015  Orange             42.0           6307924\n",
       "193  2016  Orange             51.0           6341414\n",
       "248  2017  Orange             75.0           6359900\n",
       "303  2018  Orange             58.0           6371936"
      ]
     },
     "execution_count": 216,
     "metadata": {},
     "output_type": "execute_result"
    }
   ],
   "source": [
    "infec_pop_merge.loc[infec_pop_merge['County']=='Orange']"
   ]
  },
  {
   "cell_type": "code",
   "execution_count": 217,
   "metadata": {},
   "outputs": [
    {
     "data": {
      "application/vnd.jupyter.widget-view+json": {
       "model_id": "fed8e16af51a4762a44e9413d40169ae",
       "version_major": 2,
       "version_minor": 0
      },
      "text/plain": [
       "interactive(children=(Dropdown(description='County', options=('Alameda', 'Amador', 'Butte', 'Calaveras', 'Colu…"
      ]
     },
     "metadata": {},
     "output_type": "display_data"
    },
    {
     "data": {
      "text/plain": [
       "<function __main__.pop_v_infec(county)>"
      ]
     },
     "execution_count": 217,
     "metadata": {},
     "output_type": "execute_result"
    }
   ],
   "source": [
    "def pop_v_infec(county):\n",
    "    plt.figure(figsize=(10,5))\n",
    "    \n",
    "    x = infec_pop_merge.loc[infec_pop_merge['County'] == county]['Total_Population'].tolist()\n",
    "    y = infec_pop_merge.loc[infec_pop_merge['County'] == county]['Infection_Count'].tolist()\n",
    "    \n",
    "    return sns.scatterplot(x,y)\n",
    "\n",
    "wid_2 = widgets.Dropdown(\n",
    "        options = infec_pop_merge['County'].unique().tolist(),\n",
    "        description = 'County',\n",
    "        disabled = False\n",
    ")\n",
    "\n",
    "interact(pop_v_infec, county = wid_2)\n"
   ]
  },
  {
   "cell_type": "code",
   "execution_count": 249,
   "metadata": {},
   "outputs": [
    {
     "data": {
      "text/plain": [
       "[None]"
      ]
     },
     "execution_count": 249,
     "metadata": {},
     "output_type": "execute_result"
    },
    {
     "data": {
      "image/png": "[encoded data removed]",
      "text/plain": [
       "<Figure size 720x360 with 1 Axes>"
      ]
     },
     "metadata": {
      "needs_background": "light"
     },
     "output_type": "display_data"
    }
   ],
   "source": [
    "df = infec_pop_merge.loc[infec_pop_merge['Year'] == 2015]\n",
    "df = df.drop(df['Total_Population'].idxmax())\n",
    "\n",
    "p = sns.lmplot(x='Total_Population',y='Infection_Count',data=df,ci=None,aspect=2)\n",
    "plt.setp(p.ax.lines,linewidth=2);"
   ]
  },
  {
   "cell_type": "code",
   "execution_count": 225,
   "metadata": {},
   "outputs": [
    {
     "data": {
      "application/vnd.jupyter.widget-view+json": {
       "model_id": "193735de104544779dface9daecb2ef4",
       "version_major": 2,
       "version_minor": 0
      },
      "text/plain": [
       "interactive(children=(Dropdown(description='Year', options=(2013, 2014, 2015, 2016, 2017, 2018), value=2013), …"
      ]
     },
     "metadata": {},
     "output_type": "display_data"
    }
   ],
   "source": [
    "# scatter plot widget - population versus infection rate by year\n",
    "def pop_v_infec_by_year(year):    \n",
    "    \n",
    "    df = infec_pop_merge.loc[infec_pop_merge['Year'] == year]  \n",
    "    p = sns.lmplot(x='Total_Population',y='Infection_Count',data=df,ci=None,aspect=2)\n",
    "    plt.title('Population Versus Infection Rate Across Counties Over the Year')\n",
    "    plt.xlabel(\"Total Population\")\n",
    "    plt.ylabel(\"Infection Rate \")\n",
    "    plt.setp(p.ax.lines,linewidth=2)\n",
    "    return \n",
    "\n",
    "wid_3 = widgets.Dropdown(\n",
    "        options = infec_pop_merge['Year'].unique().tolist(),\n",
    "        description = 'Year',\n",
    "        disabled = False\n",
    ")\n",
    "\n",
    "interact(pop_v_infec_by_year, year = wid_3);"
   ]
  }
 ],
 "metadata": {
  "kernelspec": {
   "display_name": "Python 3",
   "language": "python",
   "name": "python3"
  },
  "language_info": {
   "codemirror_mode": {
    "name": "ipython",
    "version": 3
   },
   "file_extension": ".py",
   "mimetype": "text/x-python",
   "name": "python",
   "nbconvert_exporter": "python",
   "pygments_lexer": "ipython3",
   "version": "3.6.9"
  }
 },
 "nbformat": 4,
 "nbformat_minor": 4
}
